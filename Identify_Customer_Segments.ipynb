{
 "cells": [
  {
   "cell_type": "markdown",
   "metadata": {},
   "source": [
    "# Project: Identify Customer Segments\n",
    "\n",
    "In this project, you will apply unsupervised learning techniques to identify segments of the population that form the core customer base for a mail-order sales company in Germany. These segments can then be used to direct marketing campaigns towards audiences that will have the highest expected rate of returns. The data that you will use has been provided by our partners at Bertelsmann Arvato Analytics, and represents a real-life data science task."
   ]
  },
  {
   "cell_type": "code",
   "execution_count": 37,
   "metadata": {},
   "outputs": [
    {
     "data": {
      "text/plain": [
       "'\\nImport note: The classroom currently uses sklearn version 0.19.\\nIf you need to use an imputer, it is available in sklearn.preprocessing.Imputer,\\ninstead of sklearn.impute as in newer versions of sklearn.\\n'"
      ]
     },
     "execution_count": 37,
     "metadata": {},
     "output_type": "execute_result"
    }
   ],
   "source": [
    "# import libraries here; add more as necessary\n",
    "import numpy as np\n",
    "import pandas as pd\n",
    "import matplotlib.pyplot as plt\n",
    "import seaborn as sns\n",
    "\n",
    "# magic word for producing visualizations in notebook\n",
    "%matplotlib inline\n",
    "\n",
    "'''\n",
    "Import note: The classroom currently uses sklearn version 0.19.\n",
    "If you need to use an imputer, it is available in sklearn.preprocessing.Imputer,\n",
    "instead of sklearn.impute as in newer versions of sklearn.\n",
    "'''"
   ]
  },
  {
   "cell_type": "markdown",
   "metadata": {},
   "source": [
    "### Step 0: Load the Data"
   ]
  },
  {
   "cell_type": "code",
   "execution_count": 38,
   "metadata": {},
   "outputs": [],
   "source": [
    "# Load in the general demographics data.\n",
    "azdias = pd.read_csv('Udacity_AZDIAS_Subset.csv',sep=';')\n",
    "\n",
    "# Load in the feature summary file.\n",
    "feat_info = pd.read_csv('AZDIAS_Feature_Summary.csv', sep=';')"
   ]
  },
  {
   "cell_type": "code",
   "execution_count": 39,
   "metadata": {},
   "outputs": [
    {
     "data": {
      "text/html": [
       "<div>\n",
       "<style scoped>\n",
       "    .dataframe tbody tr th:only-of-type {\n",
       "        vertical-align: middle;\n",
       "    }\n",
       "\n",
       "    .dataframe tbody tr th {\n",
       "        vertical-align: top;\n",
       "    }\n",
       "\n",
       "    .dataframe thead th {\n",
       "        text-align: right;\n",
       "    }\n",
       "</style>\n",
       "<table border=\"1\" class=\"dataframe\">\n",
       "  <thead>\n",
       "    <tr style=\"text-align: right;\">\n",
       "      <th></th>\n",
       "      <th>AGER_TYP</th>\n",
       "      <th>ALTERSKATEGORIE_GROB</th>\n",
       "      <th>ANREDE_KZ</th>\n",
       "      <th>CJT_GESAMTTYP</th>\n",
       "      <th>FINANZ_MINIMALIST</th>\n",
       "      <th>FINANZ_SPARER</th>\n",
       "      <th>FINANZ_VORSORGER</th>\n",
       "      <th>FINANZ_ANLEGER</th>\n",
       "      <th>FINANZ_UNAUFFAELLIGER</th>\n",
       "      <th>FINANZ_HAUSBAUER</th>\n",
       "      <th>...</th>\n",
       "      <th>PLZ8_ANTG1</th>\n",
       "      <th>PLZ8_ANTG2</th>\n",
       "      <th>PLZ8_ANTG3</th>\n",
       "      <th>PLZ8_ANTG4</th>\n",
       "      <th>PLZ8_BAUMAX</th>\n",
       "      <th>PLZ8_HHZ</th>\n",
       "      <th>PLZ8_GBZ</th>\n",
       "      <th>ARBEIT</th>\n",
       "      <th>ORTSGR_KLS9</th>\n",
       "      <th>RELAT_AB</th>\n",
       "    </tr>\n",
       "  </thead>\n",
       "  <tbody>\n",
       "    <tr>\n",
       "      <th>0</th>\n",
       "      <td>-1</td>\n",
       "      <td>2</td>\n",
       "      <td>1</td>\n",
       "      <td>2.0</td>\n",
       "      <td>3</td>\n",
       "      <td>4</td>\n",
       "      <td>3</td>\n",
       "      <td>5</td>\n",
       "      <td>5</td>\n",
       "      <td>3</td>\n",
       "      <td>...</td>\n",
       "      <td>NaN</td>\n",
       "      <td>NaN</td>\n",
       "      <td>NaN</td>\n",
       "      <td>NaN</td>\n",
       "      <td>NaN</td>\n",
       "      <td>NaN</td>\n",
       "      <td>NaN</td>\n",
       "      <td>NaN</td>\n",
       "      <td>NaN</td>\n",
       "      <td>NaN</td>\n",
       "    </tr>\n",
       "    <tr>\n",
       "      <th>1</th>\n",
       "      <td>-1</td>\n",
       "      <td>1</td>\n",
       "      <td>2</td>\n",
       "      <td>5.0</td>\n",
       "      <td>1</td>\n",
       "      <td>5</td>\n",
       "      <td>2</td>\n",
       "      <td>5</td>\n",
       "      <td>4</td>\n",
       "      <td>5</td>\n",
       "      <td>...</td>\n",
       "      <td>2.0</td>\n",
       "      <td>3.0</td>\n",
       "      <td>2.0</td>\n",
       "      <td>1.0</td>\n",
       "      <td>1.0</td>\n",
       "      <td>5.0</td>\n",
       "      <td>4.0</td>\n",
       "      <td>3.0</td>\n",
       "      <td>5.0</td>\n",
       "      <td>4.0</td>\n",
       "    </tr>\n",
       "    <tr>\n",
       "      <th>2</th>\n",
       "      <td>-1</td>\n",
       "      <td>3</td>\n",
       "      <td>2</td>\n",
       "      <td>3.0</td>\n",
       "      <td>1</td>\n",
       "      <td>4</td>\n",
       "      <td>1</td>\n",
       "      <td>2</td>\n",
       "      <td>3</td>\n",
       "      <td>5</td>\n",
       "      <td>...</td>\n",
       "      <td>3.0</td>\n",
       "      <td>3.0</td>\n",
       "      <td>1.0</td>\n",
       "      <td>0.0</td>\n",
       "      <td>1.0</td>\n",
       "      <td>4.0</td>\n",
       "      <td>4.0</td>\n",
       "      <td>3.0</td>\n",
       "      <td>5.0</td>\n",
       "      <td>2.0</td>\n",
       "    </tr>\n",
       "    <tr>\n",
       "      <th>3</th>\n",
       "      <td>2</td>\n",
       "      <td>4</td>\n",
       "      <td>2</td>\n",
       "      <td>2.0</td>\n",
       "      <td>4</td>\n",
       "      <td>2</td>\n",
       "      <td>5</td>\n",
       "      <td>2</td>\n",
       "      <td>1</td>\n",
       "      <td>2</td>\n",
       "      <td>...</td>\n",
       "      <td>2.0</td>\n",
       "      <td>2.0</td>\n",
       "      <td>2.0</td>\n",
       "      <td>0.0</td>\n",
       "      <td>1.0</td>\n",
       "      <td>3.0</td>\n",
       "      <td>4.0</td>\n",
       "      <td>2.0</td>\n",
       "      <td>3.0</td>\n",
       "      <td>3.0</td>\n",
       "    </tr>\n",
       "    <tr>\n",
       "      <th>4</th>\n",
       "      <td>-1</td>\n",
       "      <td>3</td>\n",
       "      <td>1</td>\n",
       "      <td>5.0</td>\n",
       "      <td>4</td>\n",
       "      <td>3</td>\n",
       "      <td>4</td>\n",
       "      <td>1</td>\n",
       "      <td>3</td>\n",
       "      <td>2</td>\n",
       "      <td>...</td>\n",
       "      <td>2.0</td>\n",
       "      <td>4.0</td>\n",
       "      <td>2.0</td>\n",
       "      <td>1.0</td>\n",
       "      <td>2.0</td>\n",
       "      <td>3.0</td>\n",
       "      <td>3.0</td>\n",
       "      <td>4.0</td>\n",
       "      <td>6.0</td>\n",
       "      <td>5.0</td>\n",
       "    </tr>\n",
       "  </tbody>\n",
       "</table>\n",
       "<p>5 rows × 85 columns</p>\n",
       "</div>"
      ],
      "text/plain": [
       "   AGER_TYP  ALTERSKATEGORIE_GROB  ANREDE_KZ  CJT_GESAMTTYP  \\\n",
       "0        -1                     2          1            2.0   \n",
       "1        -1                     1          2            5.0   \n",
       "2        -1                     3          2            3.0   \n",
       "3         2                     4          2            2.0   \n",
       "4        -1                     3          1            5.0   \n",
       "\n",
       "   FINANZ_MINIMALIST  FINANZ_SPARER  FINANZ_VORSORGER  FINANZ_ANLEGER  \\\n",
       "0                  3              4                 3               5   \n",
       "1                  1              5                 2               5   \n",
       "2                  1              4                 1               2   \n",
       "3                  4              2                 5               2   \n",
       "4                  4              3                 4               1   \n",
       "\n",
       "   FINANZ_UNAUFFAELLIGER  FINANZ_HAUSBAUER    ...     PLZ8_ANTG1  PLZ8_ANTG2  \\\n",
       "0                      5                 3    ...            NaN         NaN   \n",
       "1                      4                 5    ...            2.0         3.0   \n",
       "2                      3                 5    ...            3.0         3.0   \n",
       "3                      1                 2    ...            2.0         2.0   \n",
       "4                      3                 2    ...            2.0         4.0   \n",
       "\n",
       "   PLZ8_ANTG3  PLZ8_ANTG4  PLZ8_BAUMAX  PLZ8_HHZ  PLZ8_GBZ  ARBEIT  \\\n",
       "0         NaN         NaN          NaN       NaN       NaN     NaN   \n",
       "1         2.0         1.0          1.0       5.0       4.0     3.0   \n",
       "2         1.0         0.0          1.0       4.0       4.0     3.0   \n",
       "3         2.0         0.0          1.0       3.0       4.0     2.0   \n",
       "4         2.0         1.0          2.0       3.0       3.0     4.0   \n",
       "\n",
       "   ORTSGR_KLS9  RELAT_AB  \n",
       "0          NaN       NaN  \n",
       "1          5.0       4.0  \n",
       "2          5.0       2.0  \n",
       "3          3.0       3.0  \n",
       "4          6.0       5.0  \n",
       "\n",
       "[5 rows x 85 columns]"
      ]
     },
     "execution_count": 39,
     "metadata": {},
     "output_type": "execute_result"
    }
   ],
   "source": [
    "# Let's have a peak into the dataset\n",
    "azdias.head()"
   ]
  },
  {
   "cell_type": "code",
   "execution_count": 40,
   "metadata": {},
   "outputs": [
    {
     "data": {
      "text/plain": [
       "(891221, 85)"
      ]
     },
     "execution_count": 40,
     "metadata": {},
     "output_type": "execute_result"
    }
   ],
   "source": [
    "azdias.shape"
   ]
  },
  {
   "cell_type": "code",
   "execution_count": 41,
   "metadata": {
    "scrolled": true
   },
   "outputs": [
    {
     "data": {
      "text/html": [
       "<div>\n",
       "<style scoped>\n",
       "    .dataframe tbody tr th:only-of-type {\n",
       "        vertical-align: middle;\n",
       "    }\n",
       "\n",
       "    .dataframe tbody tr th {\n",
       "        vertical-align: top;\n",
       "    }\n",
       "\n",
       "    .dataframe thead th {\n",
       "        text-align: right;\n",
       "    }\n",
       "</style>\n",
       "<table border=\"1\" class=\"dataframe\">\n",
       "  <thead>\n",
       "    <tr style=\"text-align: right;\">\n",
       "      <th></th>\n",
       "      <th>attribute</th>\n",
       "      <th>information_level</th>\n",
       "      <th>type</th>\n",
       "      <th>missing_or_unknown</th>\n",
       "    </tr>\n",
       "  </thead>\n",
       "  <tbody>\n",
       "    <tr>\n",
       "      <th>0</th>\n",
       "      <td>AGER_TYP</td>\n",
       "      <td>person</td>\n",
       "      <td>categorical</td>\n",
       "      <td>[-1,0]</td>\n",
       "    </tr>\n",
       "    <tr>\n",
       "      <th>1</th>\n",
       "      <td>ALTERSKATEGORIE_GROB</td>\n",
       "      <td>person</td>\n",
       "      <td>ordinal</td>\n",
       "      <td>[-1,0,9]</td>\n",
       "    </tr>\n",
       "    <tr>\n",
       "      <th>2</th>\n",
       "      <td>ANREDE_KZ</td>\n",
       "      <td>person</td>\n",
       "      <td>categorical</td>\n",
       "      <td>[-1,0]</td>\n",
       "    </tr>\n",
       "    <tr>\n",
       "      <th>3</th>\n",
       "      <td>CJT_GESAMTTYP</td>\n",
       "      <td>person</td>\n",
       "      <td>categorical</td>\n",
       "      <td>[0]</td>\n",
       "    </tr>\n",
       "    <tr>\n",
       "      <th>4</th>\n",
       "      <td>FINANZ_MINIMALIST</td>\n",
       "      <td>person</td>\n",
       "      <td>ordinal</td>\n",
       "      <td>[-1]</td>\n",
       "    </tr>\n",
       "  </tbody>\n",
       "</table>\n",
       "</div>"
      ],
      "text/plain": [
       "              attribute information_level         type missing_or_unknown\n",
       "0              AGER_TYP            person  categorical             [-1,0]\n",
       "1  ALTERSKATEGORIE_GROB            person      ordinal           [-1,0,9]\n",
       "2             ANREDE_KZ            person  categorical             [-1,0]\n",
       "3         CJT_GESAMTTYP            person  categorical                [0]\n",
       "4     FINANZ_MINIMALIST            person      ordinal               [-1]"
      ]
     },
     "execution_count": 41,
     "metadata": {},
     "output_type": "execute_result"
    }
   ],
   "source": [
    "# Information related to features of azdias\n",
    "feat_info.head()"
   ]
  },
  {
   "cell_type": "code",
   "execution_count": 42,
   "metadata": {},
   "outputs": [
    {
     "data": {
      "text/plain": [
       "(85, 4)"
      ]
     },
     "execution_count": 42,
     "metadata": {},
     "output_type": "execute_result"
    }
   ],
   "source": [
    "feat_info.shape"
   ]
  },
  {
   "cell_type": "markdown",
   "metadata": {},
   "source": [
    "## Step 1: Preprocessing"
   ]
  },
  {
   "cell_type": "code",
   "execution_count": 43,
   "metadata": {},
   "outputs": [],
   "source": [
    "# We interpret the missing_or_unknown column of the feat_info DataFrame as a list and replace the corresponding values\n",
    "# in the azdias DataFrame with np.NaN\n",
    "\n",
    "import ast\n",
    "import re\n",
    "\n",
    "for c in feat_info.iterrows():\n",
    "    #https://stackoverflow.com/questions/1894269/convert-string-representation-of-list-to-list\n",
    "    str = c[1]['missing_or_unknown']\n",
    "    \n",
    "    if str == '[]':\n",
    "        continue\n",
    "        \n",
    "    # Add quotes to string so they can be interpreted as lists\n",
    "    str = re.sub(r\"([A-Za-z])\",r\"'\\1'\",str)\n",
    "    \n",
    "    try:\n",
    "        mlist = ast.literal_eval(str)\n",
    "        azdias[c[1]['attribute']][azdias[c[1]['attribute']].isin(mlist)] = np.NaN\n",
    "    except ValueError:\n",
    "        print('Could not be interpreted as a list: {}'.format(str))"
   ]
  },
  {
   "cell_type": "markdown",
   "metadata": {},
   "source": [
    "#### Step 1.1.2: Assess Missing Data in Each Column"
   ]
  },
  {
   "cell_type": "code",
   "execution_count": 44,
   "metadata": {},
   "outputs": [],
   "source": [
    "# Count NaNs in each column\n",
    "\n",
    "nancl = []\n",
    "\n",
    "for c in azdias.columns:\n",
    "    l = azdias[c].value_counts(dropna=False,normalize=True)\n",
    "    try:\n",
    "        nancl.append(l[np.NaN])\n",
    "    except TypeError:\n",
    "        nancl.append(0)"
   ]
  },
  {
   "cell_type": "code",
   "execution_count": 45,
   "metadata": {},
   "outputs": [
    {
     "data": {
      "text/plain": [
       "<Container object of 85 artists>"
      ]
     },
     "execution_count": 45,
     "metadata": {},
     "output_type": "execute_result"
    },
    {
     "data": {
      "image/png": "[encoded data removed]",
      "text/plain": [
       "<matplotlib.figure.Figure at 0x7fdb81f50e80>"
      ]
     },
     "metadata": {
      "needs_background": "light"
     },
     "output_type": "display_data"
    }
   ],
   "source": [
    "fig, ax = plt.subplots(figsize=(10,25))\n",
    "y = np.arange(len(azdias.columns))\n",
    "ax.barh(y,nancl,tick_label=azdias.columns)"
   ]
  },
  {
   "cell_type": "code",
   "execution_count": 46,
   "metadata": {},
   "outputs": [
    {
     "name": "stdout",
     "output_type": "stream",
     "text": [
      "AGER_TYP\n",
      "GEBURTSJAHR\n",
      "TITEL_KZ\n",
      "ALTER_HH\n",
      "KK_KUNDENTYP\n",
      "KBA05_BAUMAX\n"
     ]
    }
   ],
   "source": [
    "# Print Columns with more than 20% missing values\n",
    "\n",
    "for c in azdias.columns:\n",
    "    l = azdias[c].value_counts(dropna=False,normalize=True)\n",
    "    try:\n",
    "        if l[np.NaN] >= 0.2:\n",
    "            print(c)\n",
    "    except TypeError:\n",
    "        continue"
   ]
  },
  {
   "cell_type": "code",
   "execution_count": 47,
   "metadata": {},
   "outputs": [],
   "source": [
    "# Remove columns with over 20% missing values\n",
    "try:\n",
    "    azdias = azdias.drop(['AGER_TYP','GEBURTSJAHR','TITEL_KZ','ALTER_HH','KK_KUNDENTYP','KBA05_BAUMAX'],axis=1)\n",
    "except KeyError: # Already Dropped\n",
    "    pass"
   ]
  },
  {
   "cell_type": "code",
   "execution_count": 48,
   "metadata": {},
   "outputs": [],
   "source": [
    "#Let's build a dataframe where the rows signify each column in azdias. The columns denote all other columns,\n",
    "#which are 'NaN' if the column in the row is also NaN\n",
    "\n",
    "corr_l = []\n",
    "na_df = azdias.isna()\n",
    "for c in na_df.columns:\n",
    "    entry = na_df.loc[na_df[c]==True].sum().to_dict()\n",
    "    entry['index'] = c\n",
    "    corr_l.append(entry)"
   ]
  },
  {
   "cell_type": "code",
   "execution_count": 49,
   "metadata": {},
   "outputs": [],
   "source": [
    "corr_df = pd.DataFrame(corr_l)\n",
    "corr_df = corr_df.set_index('index')"
   ]
  },
  {
   "cell_type": "code",
   "execution_count": 50,
   "metadata": {},
   "outputs": [
    {
     "data": {
      "text/html": [
       "<div>\n",
       "<style scoped>\n",
       "    .dataframe tbody tr th:only-of-type {\n",
       "        vertical-align: middle;\n",
       "    }\n",
       "\n",
       "    .dataframe tbody tr th {\n",
       "        vertical-align: top;\n",
       "    }\n",
       "\n",
       "    .dataframe thead th {\n",
       "        text-align: right;\n",
       "    }\n",
       "</style>\n",
       "<table border=\"1\" class=\"dataframe\">\n",
       "  <thead>\n",
       "    <tr style=\"text-align: right;\">\n",
       "      <th></th>\n",
       "      <th>ALTERSKATEGORIE_GROB</th>\n",
       "      <th>ANREDE_KZ</th>\n",
       "      <th>ANZ_HAUSHALTE_AKTIV</th>\n",
       "      <th>ANZ_HH_TITEL</th>\n",
       "      <th>ANZ_PERSONEN</th>\n",
       "      <th>ANZ_TITEL</th>\n",
       "      <th>ARBEIT</th>\n",
       "      <th>BALLRAUM</th>\n",
       "      <th>CAMEO_DEUG_2015</th>\n",
       "      <th>CAMEO_DEU_2015</th>\n",
       "      <th>...</th>\n",
       "      <th>SEMIO_SOZ</th>\n",
       "      <th>SEMIO_TRADV</th>\n",
       "      <th>SEMIO_VERT</th>\n",
       "      <th>SHOPPER_TYP</th>\n",
       "      <th>SOHO_KZ</th>\n",
       "      <th>VERS_TYP</th>\n",
       "      <th>WOHNDAUER_2008</th>\n",
       "      <th>WOHNLAGE</th>\n",
       "      <th>W_KEIT_KIND_HH</th>\n",
       "      <th>ZABEOTYP</th>\n",
       "    </tr>\n",
       "    <tr>\n",
       "      <th>index</th>\n",
       "      <th></th>\n",
       "      <th></th>\n",
       "      <th></th>\n",
       "      <th></th>\n",
       "      <th></th>\n",
       "      <th></th>\n",
       "      <th></th>\n",
       "      <th></th>\n",
       "      <th></th>\n",
       "      <th></th>\n",
       "      <th></th>\n",
       "      <th></th>\n",
       "      <th></th>\n",
       "      <th></th>\n",
       "      <th></th>\n",
       "      <th></th>\n",
       "      <th></th>\n",
       "      <th></th>\n",
       "      <th></th>\n",
       "      <th></th>\n",
       "      <th></th>\n",
       "    </tr>\n",
       "  </thead>\n",
       "  <tbody>\n",
       "    <tr>\n",
       "      <th>ALTERSKATEGORIE_GROB</th>\n",
       "      <td>2881</td>\n",
       "      <td>0</td>\n",
       "      <td>97</td>\n",
       "      <td>92</td>\n",
       "      <td>0</td>\n",
       "      <td>0</td>\n",
       "      <td>96</td>\n",
       "      <td>78</td>\n",
       "      <td>95</td>\n",
       "      <td>95</td>\n",
       "      <td>...</td>\n",
       "      <td>0</td>\n",
       "      <td>0</td>\n",
       "      <td>0</td>\n",
       "      <td>2881</td>\n",
       "      <td>0</td>\n",
       "      <td>2881</td>\n",
       "      <td>0</td>\n",
       "      <td>78</td>\n",
       "      <td>754</td>\n",
       "      <td>0</td>\n",
       "    </tr>\n",
       "    <tr>\n",
       "      <th>ANREDE_KZ</th>\n",
       "      <td>0</td>\n",
       "      <td>0</td>\n",
       "      <td>0</td>\n",
       "      <td>0</td>\n",
       "      <td>0</td>\n",
       "      <td>0</td>\n",
       "      <td>0</td>\n",
       "      <td>0</td>\n",
       "      <td>0</td>\n",
       "      <td>0</td>\n",
       "      <td>...</td>\n",
       "      <td>0</td>\n",
       "      <td>0</td>\n",
       "      <td>0</td>\n",
       "      <td>0</td>\n",
       "      <td>0</td>\n",
       "      <td>0</td>\n",
       "      <td>0</td>\n",
       "      <td>0</td>\n",
       "      <td>0</td>\n",
       "      <td>0</td>\n",
       "    </tr>\n",
       "    <tr>\n",
       "      <th>CJT_GESAMTTYP</th>\n",
       "      <td>15</td>\n",
       "      <td>0</td>\n",
       "      <td>103</td>\n",
       "      <td>100</td>\n",
       "      <td>0</td>\n",
       "      <td>0</td>\n",
       "      <td>126</td>\n",
       "      <td>102</td>\n",
       "      <td>133</td>\n",
       "      <td>133</td>\n",
       "      <td>...</td>\n",
       "      <td>0</td>\n",
       "      <td>0</td>\n",
       "      <td>0</td>\n",
       "      <td>276</td>\n",
       "      <td>0</td>\n",
       "      <td>276</td>\n",
       "      <td>0</td>\n",
       "      <td>100</td>\n",
       "      <td>217</td>\n",
       "      <td>0</td>\n",
       "    </tr>\n",
       "    <tr>\n",
       "      <th>FINANZ_MINIMALIST</th>\n",
       "      <td>0</td>\n",
       "      <td>0</td>\n",
       "      <td>0</td>\n",
       "      <td>0</td>\n",
       "      <td>0</td>\n",
       "      <td>0</td>\n",
       "      <td>0</td>\n",
       "      <td>0</td>\n",
       "      <td>0</td>\n",
       "      <td>0</td>\n",
       "      <td>...</td>\n",
       "      <td>0</td>\n",
       "      <td>0</td>\n",
       "      <td>0</td>\n",
       "      <td>0</td>\n",
       "      <td>0</td>\n",
       "      <td>0</td>\n",
       "      <td>0</td>\n",
       "      <td>0</td>\n",
       "      <td>0</td>\n",
       "      <td>0</td>\n",
       "    </tr>\n",
       "    <tr>\n",
       "      <th>FINANZ_SPARER</th>\n",
       "      <td>0</td>\n",
       "      <td>0</td>\n",
       "      <td>0</td>\n",
       "      <td>0</td>\n",
       "      <td>0</td>\n",
       "      <td>0</td>\n",
       "      <td>0</td>\n",
       "      <td>0</td>\n",
       "      <td>0</td>\n",
       "      <td>0</td>\n",
       "      <td>...</td>\n",
       "      <td>0</td>\n",
       "      <td>0</td>\n",
       "      <td>0</td>\n",
       "      <td>0</td>\n",
       "      <td>0</td>\n",
       "      <td>0</td>\n",
       "      <td>0</td>\n",
       "      <td>0</td>\n",
       "      <td>0</td>\n",
       "      <td>0</td>\n",
       "    </tr>\n",
       "  </tbody>\n",
       "</table>\n",
       "<p>5 rows × 79 columns</p>\n",
       "</div>"
      ],
      "text/plain": [
       "                      ALTERSKATEGORIE_GROB  ANREDE_KZ  ANZ_HAUSHALTE_AKTIV  \\\n",
       "index                                                                        \n",
       "ALTERSKATEGORIE_GROB                  2881          0                   97   \n",
       "ANREDE_KZ                                0          0                    0   \n",
       "CJT_GESAMTTYP                           15          0                  103   \n",
       "FINANZ_MINIMALIST                        0          0                    0   \n",
       "FINANZ_SPARER                            0          0                    0   \n",
       "\n",
       "                      ANZ_HH_TITEL  ANZ_PERSONEN  ANZ_TITEL  ARBEIT  BALLRAUM  \\\n",
       "index                                                                           \n",
       "ALTERSKATEGORIE_GROB            92             0          0      96        78   \n",
       "ANREDE_KZ                        0             0          0       0         0   \n",
       "CJT_GESAMTTYP                  100             0          0     126       102   \n",
       "FINANZ_MINIMALIST                0             0          0       0         0   \n",
       "FINANZ_SPARER                    0             0          0       0         0   \n",
       "\n",
       "                      CAMEO_DEUG_2015  CAMEO_DEU_2015    ...     SEMIO_SOZ  \\\n",
       "index                                                    ...                 \n",
       "ALTERSKATEGORIE_GROB               95              95    ...             0   \n",
       "ANREDE_KZ                           0               0    ...             0   \n",
       "CJT_GESAMTTYP                     133             133    ...             0   \n",
       "FINANZ_MINIMALIST                   0               0    ...             0   \n",
       "FINANZ_SPARER                       0               0    ...             0   \n",
       "\n",
       "                      SEMIO_TRADV  SEMIO_VERT  SHOPPER_TYP  SOHO_KZ  VERS_TYP  \\\n",
       "index                                                                           \n",
       "ALTERSKATEGORIE_GROB            0           0         2881        0      2881   \n",
       "ANREDE_KZ                       0           0            0        0         0   \n",
       "CJT_GESAMTTYP                   0           0          276        0       276   \n",
       "FINANZ_MINIMALIST               0           0            0        0         0   \n",
       "FINANZ_SPARER                   0           0            0        0         0   \n",
       "\n",
       "                      WOHNDAUER_2008  WOHNLAGE  W_KEIT_KIND_HH  ZABEOTYP  \n",
       "index                                                                     \n",
       "ALTERSKATEGORIE_GROB               0        78             754         0  \n",
       "ANREDE_KZ                          0         0               0         0  \n",
       "CJT_GESAMTTYP                      0       100             217         0  \n",
       "FINANZ_MINIMALIST                  0         0               0         0  \n",
       "FINANZ_SPARER                      0         0               0         0  \n",
       "\n",
       "[5 rows x 79 columns]"
      ]
     },
     "execution_count": 50,
     "metadata": {},
     "output_type": "execute_result"
    }
   ],
   "source": [
    "corr_df.head()"
   ]
  },
  {
   "cell_type": "markdown",
   "metadata": {},
   "source": [
    "For example there are 92 rows where 'ALTERSKATEGORIE_GROB' is NaN and 'ANZ_HH_TITEL' is NaN"
   ]
  },
  {
   "cell_type": "code",
   "execution_count": 51,
   "metadata": {
    "scrolled": false
   },
   "outputs": [
    {
     "data": {
      "text/plain": [
       "<matplotlib.axes._subplots.AxesSubplot at 0x7fdb81e762b0>"
      ]
     },
     "execution_count": 51,
     "metadata": {},
     "output_type": "execute_result"
    },
    {
     "data": {
      "image/png": "[encoded data removed]",
      "text/plain": [
       "<matplotlib.figure.Figure at 0x7fdb81d857f0>"
      ]
     },
     "metadata": {
      "needs_background": "light"
     },
     "output_type": "display_data"
    }
   ],
   "source": [
    "import seaborn as sb\n",
    "\n",
    "fig,ax = plt.subplots(figsize=(30,30))\n",
    "sb.heatmap(corr_df,ax=ax)"
   ]
  },
  {
   "cell_type": "markdown",
   "metadata": {},
   "source": [
    "### Heatmap Explanation\n",
    "The y-Axis are the row labels and the x-Axis the corresponding other columns which are Nan . Black Rows denote the case where the index label is a NaN, but no other values are NaN or have much lower NaN counts than other rows.\n",
    "\n",
    "Black Columns in the plot denote the case that these labels are never NaN when another label is NaN. Since all of them are also crossing 'themselves' row-wise, too, the corresponding label is nowhere a 'NaN'. Black is synonymous with 'relatively few' on the color scale used here. \n",
    "\n",
    "High counts denote regions, where a NaN on the y-axis is correlated with NaNs in the labels on the x-axis. This means, if the column on the left is NaN, many columns in the column denoted in the x-Axis are also NaN."
   ]
  },
  {
   "cell_type": "markdown",
   "metadata": {},
   "source": [
    "#### Discussion 1.1.2: Assess Missing Data in Each Column\n",
    "\n",
    "From the 'correlation map', we can see that if one 'KBA05_' or 'PLZ8_' value is missing, all other values of these categories are also missing. A missing 'KBA05_' value has likely also a missing 'MOBI_REGION' value. Counting the missing values per column, it becomes clear that some features were not taken with the same diligence than others by a rather large margin. All columns with more than 20% missing values are dropped."
   ]
  },
  {
   "cell_type": "markdown",
   "metadata": {},
   "source": [
    "#### Step 1.1.3: Assess Missing Data in Each Row"
   ]
  },
  {
   "cell_type": "code",
   "execution_count": 52,
   "metadata": {},
   "outputs": [
    {
     "data": {
      "text/plain": [
       "Text(0,0.5,'Rows')"
      ]
     },
     "execution_count": 52,
     "metadata": {},
     "output_type": "execute_result"
    },
    {
     "data": {
      "image/png": "[encoded data removed]",
      "text/plain": [
       "<matplotlib.figure.Figure at 0x7fdb81dc7b00>"
      ]
     },
     "metadata": {
      "needs_background": "light"
     },
     "output_type": "display_data"
    }
   ],
   "source": [
    "ax = (azdias.isna().sum(axis=1)/azdias.shape[1]).hist()\n",
    "\n",
    "ax.set_xlabel('Percentage of missing column data in a row')\n",
    "ax.set_ylabel('Rows')"
   ]
  },
  {
   "cell_type": "code",
   "execution_count": 53,
   "metadata": {},
   "outputs": [],
   "source": [
    "# Divide rows in two sets: One with more than 30% missing columns, one with less\n",
    "crit = azdias.isna().sum(axis=1)/azdias.shape[1] <= 0.3\n",
    "set1 = azdias.loc[crit].copy()\n",
    "set2 = azdias.loc[~crit].copy()"
   ]
  },
  {
   "cell_type": "code",
   "execution_count": 54,
   "metadata": {},
   "outputs": [
    {
     "data": {
      "text/plain": [
       "0     623209\n",
       "2      27926\n",
       "8      24592\n",
       "5      22515\n",
       "3      17629\n",
       "1      15738\n",
       "6      13771\n",
       "7      13714\n",
       "4      12607\n",
       "10      5410\n",
       "15      4743\n",
       "13      3255\n",
       "9       3042\n",
       "16      2505\n",
       "14      2243\n",
       "19      1180\n",
       "11      1127\n",
       "12       766\n",
       "17       677\n",
       "18       428\n",
       "20       349\n",
       "21       150\n",
       "23       132\n",
       "22       129\n",
       "dtype: int64"
      ]
     },
     "execution_count": 54,
     "metadata": {},
     "output_type": "execute_result"
    }
   ],
   "source": [
    "set1.isna().sum(axis=1).value_counts()"
   ]
  },
  {
   "cell_type": "code",
   "execution_count": 55,
   "metadata": {},
   "outputs": [
    {
     "data": {
      "text/plain": [
       "(797837, 79)"
      ]
     },
     "execution_count": 55,
     "metadata": {},
     "output_type": "execute_result"
    }
   ],
   "source": [
    "set1.shape"
   ]
  },
  {
   "cell_type": "code",
   "execution_count": 56,
   "metadata": {},
   "outputs": [
    {
     "data": {
      "text/plain": [
       "(93384, 79)"
      ]
     },
     "execution_count": 56,
     "metadata": {},
     "output_type": "execute_result"
    }
   ],
   "source": [
    "set2.shape"
   ]
  },
  {
   "cell_type": "code",
   "execution_count": 57,
   "metadata": {},
   "outputs": [
    {
     "data": {
      "image/png": "[encoded data removed]",
      "text/plain": [
       "<matplotlib.figure.Figure at 0x7fdb822df278>"
      ]
     },
     "metadata": {
      "needs_background": "light"
     },
     "output_type": "display_data"
    }
   ],
   "source": [
    "# Compare the distribution of values for at least five columns where there are\n",
    "# no or few missing values, between the two subsets.\n",
    "import seaborn as sb\n",
    "\n",
    "# Based on heatmap above\n",
    "cols=['PLZ8_ANTG3','KBA05_ANTG4','MOBI_REGIO','WOHNLAGE','NATIONALITAET_KZ']\n",
    "\n",
    "fig, ax = plt.subplots(len(cols),2,figsize=(10,10))\n",
    "\n",
    "for i,c in enumerate(cols):\n",
    "    #Reverse filling in NaN for plotting, 0 is not reserved for another value\n",
    "    sb.countplot(ax=ax[i,0],x=c,data=set1.replace(np.NaN,0))\n",
    "    sb.countplot(ax=ax[i,1],x=c,data=set2.replace(np.NaN,0))\n",
    "\n",
    "plt.tight_layout()"
   ]
  },
  {
   "cell_type": "markdown",
   "metadata": {},
   "source": [
    "#### Discussion 1.1.3: Assess Missing Data in Each Row\n",
    "\n",
    "Similar to the observation from the heatmap, we can see that the missing data is mainly related to real estate data (PLZ8_ and KBA05_). MOBI_REGIO and WOHNLAGE, the mobility of the person, is also missing simultaneously. The similariaty of the features probably means that they all come from a similar source. The nationality is missing more, but is not missing completely like the others."
   ]
  },
  {
   "cell_type": "markdown",
   "metadata": {},
   "source": [
    "### Step 1.2: Select and Re-Encode Features"
   ]
  },
  {
   "cell_type": "code",
   "execution_count": 58,
   "metadata": {},
   "outputs": [
    {
     "name": "stdout",
     "output_type": "stream",
     "text": [
      "ordinal        49\n",
      "categorical    21\n",
      "numeric         7\n",
      "mixed           7\n",
      "interval        1\n",
      "Name: type, dtype: int64\n"
     ]
    },
    {
     "data": {
      "text/plain": [
       "<matplotlib.axes._subplots.AxesSubplot at 0x7fdb82573860>"
      ]
     },
     "execution_count": 58,
     "metadata": {},
     "output_type": "execute_result"
    },
    {
     "data": {
      "image/png": "[encoded data removed]",
      "text/plain": [
       "<matplotlib.figure.Figure at 0x7fdb82746160>"
      ]
     },
     "metadata": {
      "needs_background": "light"
     },
     "output_type": "display_data"
    }
   ],
   "source": [
    "# How many features are there of each data type?\n",
    "print(feat_info['type'].value_counts())\n",
    "feat_info['type'].hist()"
   ]
  },
  {
   "cell_type": "markdown",
   "metadata": {},
   "source": [
    "#### Step 1.2.1: Re-Encode Categorical Features"
   ]
  },
  {
   "cell_type": "code",
   "execution_count": 59,
   "metadata": {},
   "outputs": [
    {
     "data": {
      "text/plain": [
       "0             AGER_TYP\n",
       "2            ANREDE_KZ\n",
       "3        CJT_GESAMTTYP\n",
       "10           FINANZTYP\n",
       "12     GFK_URLAUBERTYP\n",
       "13    GREEN_AVANTGARDE\n",
       "17     LP_FAMILIE_FEIN\n",
       "18     LP_FAMILIE_GROB\n",
       "19      LP_STATUS_FEIN\n",
       "20      LP_STATUS_GROB\n",
       "21    NATIONALITAET_KZ\n",
       "38         SHOPPER_TYP\n",
       "39             SOHO_KZ\n",
       "40            TITEL_KZ\n",
       "41            VERS_TYP\n",
       "42            ZABEOTYP\n",
       "47        KK_KUNDENTYP\n",
       "52         GEBAEUDETYP\n",
       "55         OST_WEST_KZ\n",
       "57     CAMEO_DEUG_2015\n",
       "58      CAMEO_DEU_2015\n",
       "Name: attribute, dtype: object"
      ]
     },
     "execution_count": 59,
     "metadata": {},
     "output_type": "execute_result"
    }
   ],
   "source": [
    "feat_info['attribute'].loc[feat_info['type'] == 'categorical']"
   ]
  },
  {
   "cell_type": "code",
   "execution_count": 60,
   "metadata": {},
   "outputs": [
    {
     "name": "stdout",
     "output_type": "stream",
     "text": [
      "ANREDE_KZ : [2 1]\n",
      "CJT_GESAMTTYP : [  5.   3.   2.   4.   1.   6.  nan]\n",
      "FINANZTYP : [1 6 5 2 4 3]\n",
      "GFK_URLAUBERTYP : [ 10.   1.   5.  12.   9.   3.   8.  11.   4.   2.   7.   6.  nan]\n",
      "GREEN_AVANTGARDE : [0 1]\n",
      "LP_FAMILIE_FEIN : [  5.   1.  nan  10.   2.   7.  11.   8.   4.   6.   9.   3.]\n",
      "LP_FAMILIE_GROB : [  3.   1.  nan   5.   2.   4.]\n",
      "LP_STATUS_FEIN : [  2.   3.   9.   4.   1.  10.   5.   8.   6.   7.  nan]\n",
      "LP_STATUS_GROB : [  1.   2.   4.   5.   3.  nan]\n",
      "NATIONALITAET_KZ : [  1.   3.   2.  nan]\n",
      "SHOPPER_TYP : [  3.   2.   1.   0.  nan]\n",
      "SOHO_KZ : [ 1.  0.]\n",
      "VERS_TYP : [  2.   1.  nan]\n",
      "ZABEOTYP : [5 3 4 1 6 2]\n",
      "GEBAEUDETYP : [ 8.  1.  3.  2.  6.  4.  5.]\n",
      "OST_WEST_KZ : ['W' 'O']\n",
      "CAMEO_DEUG_2015 : ['8' '4' '2' '6' '1' '9' '5' '7' nan '3']\n",
      "CAMEO_DEU_2015 : ['8A' '4C' '2A' '6B' '8C' '4A' '2D' '1A' '1E' '9D' '5C' '8B' '7A' '5D' '9E'\n",
      " nan '9B' '1B' '3D' '4E' '4B' '3C' '5A' '7B' '9A' '6D' '6E' '2C' '7C' '9C'\n",
      " '7D' '5E' '1D' '8D' '6C' '6A' '5B' '4D' '3A' '2B' '7E' '3B' '6F' '5F' '1C']\n"
     ]
    }
   ],
   "source": [
    "cols= feat_info['attribute'].loc[feat_info['type'] == 'categorical']\n",
    "\n",
    "for c in cols:\n",
    "    try:\n",
    "        print('{} : {}'.format(c,set1[c].unique()))\n",
    "    except KeyError: # We already dropped this column\n",
    "        continue"
   ]
  },
  {
   "cell_type": "code",
   "execution_count": 61,
   "metadata": {},
   "outputs": [
    {
     "data": {
      "text/html": [
       "<div>\n",
       "<style scoped>\n",
       "    .dataframe tbody tr th:only-of-type {\n",
       "        vertical-align: middle;\n",
       "    }\n",
       "\n",
       "    .dataframe tbody tr th {\n",
       "        vertical-align: top;\n",
       "    }\n",
       "\n",
       "    .dataframe thead th {\n",
       "        text-align: right;\n",
       "    }\n",
       "</style>\n",
       "<table border=\"1\" class=\"dataframe\">\n",
       "  <thead>\n",
       "    <tr style=\"text-align: right;\">\n",
       "      <th></th>\n",
       "      <th>CAMEO_DEU_2015</th>\n",
       "      <th>CAMEO_DEUG_2015</th>\n",
       "    </tr>\n",
       "  </thead>\n",
       "  <tbody>\n",
       "    <tr>\n",
       "      <th>1</th>\n",
       "      <td>8A</td>\n",
       "      <td>8</td>\n",
       "    </tr>\n",
       "    <tr>\n",
       "      <th>2</th>\n",
       "      <td>4C</td>\n",
       "      <td>4</td>\n",
       "    </tr>\n",
       "    <tr>\n",
       "      <th>3</th>\n",
       "      <td>2A</td>\n",
       "      <td>2</td>\n",
       "    </tr>\n",
       "    <tr>\n",
       "      <th>4</th>\n",
       "      <td>6B</td>\n",
       "      <td>6</td>\n",
       "    </tr>\n",
       "    <tr>\n",
       "      <th>5</th>\n",
       "      <td>8C</td>\n",
       "      <td>8</td>\n",
       "    </tr>\n",
       "    <tr>\n",
       "      <th>6</th>\n",
       "      <td>4A</td>\n",
       "      <td>4</td>\n",
       "    </tr>\n",
       "    <tr>\n",
       "      <th>7</th>\n",
       "      <td>2D</td>\n",
       "      <td>2</td>\n",
       "    </tr>\n",
       "    <tr>\n",
       "      <th>8</th>\n",
       "      <td>1A</td>\n",
       "      <td>1</td>\n",
       "    </tr>\n",
       "    <tr>\n",
       "      <th>9</th>\n",
       "      <td>1E</td>\n",
       "      <td>1</td>\n",
       "    </tr>\n",
       "    <tr>\n",
       "      <th>10</th>\n",
       "      <td>9D</td>\n",
       "      <td>9</td>\n",
       "    </tr>\n",
       "    <tr>\n",
       "      <th>12</th>\n",
       "      <td>6B</td>\n",
       "      <td>6</td>\n",
       "    </tr>\n",
       "    <tr>\n",
       "      <th>13</th>\n",
       "      <td>5C</td>\n",
       "      <td>5</td>\n",
       "    </tr>\n",
       "    <tr>\n",
       "      <th>15</th>\n",
       "      <td>8B</td>\n",
       "      <td>8</td>\n",
       "    </tr>\n",
       "    <tr>\n",
       "      <th>16</th>\n",
       "      <td>7A</td>\n",
       "      <td>7</td>\n",
       "    </tr>\n",
       "    <tr>\n",
       "      <th>18</th>\n",
       "      <td>4C</td>\n",
       "      <td>4</td>\n",
       "    </tr>\n",
       "    <tr>\n",
       "      <th>19</th>\n",
       "      <td>5D</td>\n",
       "      <td>5</td>\n",
       "    </tr>\n",
       "    <tr>\n",
       "      <th>20</th>\n",
       "      <td>4C</td>\n",
       "      <td>4</td>\n",
       "    </tr>\n",
       "    <tr>\n",
       "      <th>21</th>\n",
       "      <td>9E</td>\n",
       "      <td>9</td>\n",
       "    </tr>\n",
       "    <tr>\n",
       "      <th>22</th>\n",
       "      <td>9D</td>\n",
       "      <td>9</td>\n",
       "    </tr>\n",
       "    <tr>\n",
       "      <th>23</th>\n",
       "      <td>6B</td>\n",
       "      <td>6</td>\n",
       "    </tr>\n",
       "  </tbody>\n",
       "</table>\n",
       "</div>"
      ],
      "text/plain": [
       "   CAMEO_DEU_2015 CAMEO_DEUG_2015\n",
       "1              8A               8\n",
       "2              4C               4\n",
       "3              2A               2\n",
       "4              6B               6\n",
       "5              8C               8\n",
       "6              4A               4\n",
       "7              2D               2\n",
       "8              1A               1\n",
       "9              1E               1\n",
       "10             9D               9\n",
       "12             6B               6\n",
       "13             5C               5\n",
       "15             8B               8\n",
       "16             7A               7\n",
       "18             4C               4\n",
       "19             5D               5\n",
       "20             4C               4\n",
       "21             9E               9\n",
       "22             9D               9\n",
       "23             6B               6"
      ]
     },
     "execution_count": 61,
     "metadata": {},
     "output_type": "execute_result"
    }
   ],
   "source": [
    "set1[['CAMEO_DEU_2015','CAMEO_DEUG_2015']].head(20) # Making sure that the 'grob' columns have the same information as the 'fein' ones"
   ]
  },
  {
   "cell_type": "code",
   "execution_count": 62,
   "metadata": {},
   "outputs": [],
   "source": [
    "# We can drop the 'grob' columns as the 'fein' columns have the same information, this is also based on the Data dictionary\n",
    "set1a = set1.drop(['CAMEO_DEUG_2015', 'LP_STATUS_GROB','LP_FAMILIE_GROB','LP_LEBENSPHASE_GROB'],axis=1).copy()"
   ]
  },
  {
   "cell_type": "code",
   "execution_count": 63,
   "metadata": {},
   "outputs": [],
   "source": [
    "# Re-encode categorical variable(s) all non-binary categories\n",
    "# This is kept here, but ultimately left out of the final cleaning procedure, since it dramatically saves time for KMeans\n",
    "reenc = ['CJT_GESAMTTYP','FINANZTYP','GFK_URLAUBERTYP','LP_FAMILIE_FEIN','LP_STATUS_FEIN','NATIONALITAET_KZ','SHOPPER_TYP','ZABEOTYP','GEBAEUDETYP','CAMEO_DEU_2015']\n",
    "enc_set1a = pd.get_dummies(set1a,columns=reenc)"
   ]
  },
  {
   "cell_type": "code",
   "execution_count": 64,
   "metadata": {},
   "outputs": [],
   "source": [
    "enc_set1a['OST_WEST_KZ'] = enc_set1a['OST_WEST_KZ'].replace({'W': 1,'O': 0})"
   ]
  },
  {
   "cell_type": "markdown",
   "metadata": {},
   "source": [
    "#### Discussion 1.2.1: Re-Encode Categorical Features\n",
    "\n",
    "We checked which features are categorical by comparing it with the given features dataset. Features which had only two possible values were categorized as 'binary' and not modified. Features with two values and 'NaN' were also categorized as 'binary', since the 'NaN' will be imputed later or the rows will be entirely dropped. Redundant columns were dropped. Multi-categorical features were re-encoded. However, as mentioned above, this re-encoding was ultimately left out of the analysis to save computing time for the KMeans algorithm. The OST_WEST_KZ binary value was adapted to have numerical values."
   ]
  },
  {
   "cell_type": "markdown",
   "metadata": {},
   "source": [
    "#### Step 1.2.2: Engineer Mixed-Type Features"
   ]
  },
  {
   "cell_type": "code",
   "execution_count": 65,
   "metadata": {
    "scrolled": false
   },
   "outputs": [
    {
     "data": {
      "text/plain": [
       "15      LP_LEBENSPHASE_FEIN\n",
       "16      LP_LEBENSPHASE_GROB\n",
       "22    PRAEGENDE_JUGENDJAHRE\n",
       "56                 WOHNLAGE\n",
       "59          CAMEO_INTL_2015\n",
       "64             KBA05_BAUMAX\n",
       "79              PLZ8_BAUMAX\n",
       "Name: attribute, dtype: object"
      ]
     },
     "execution_count": 65,
     "metadata": {},
     "output_type": "execute_result"
    }
   ],
   "source": [
    "# Check for mixed features\n",
    "feat_info['attribute'].loc[feat_info['type'] == 'mixed']"
   ]
  },
  {
   "cell_type": "code",
   "execution_count": 66,
   "metadata": {},
   "outputs": [
    {
     "name": "stdout",
     "output_type": "stream",
     "text": [
      "LP_LEBENSPHASE_FEIN : [ 21.   3.  nan  32.   8.   2.   5.  10.   4.   6.  23.  12.  20.   1.  11.\n",
      "  25.  13.  18.  31.  38.  35.  30.   7.  22.  14.  29.  24.  28.  37.  26.\n",
      "  39.  27.  36.   9.  34.  33.  15.  40.  16.  19.  17.]\n",
      "PRAEGENDE_JUGENDJAHRE : [ 14.  15.   8.   3.  10.  11.   5.   9.   6.   4.  nan   2.   1.  12.  13.\n",
      "   7.]\n",
      "WOHNLAGE : [ 4.  2.  7.  3.  5.  1.  8.  0.]\n",
      "CAMEO_INTL_2015 : ['51' '24' '12' '43' '54' '22' '14' '13' '15' '33' '41' '34' '55' nan '25'\n",
      " '23' '31' '52' '35' '45' '44' '32']\n",
      "PLZ8_BAUMAX : [  1.   2.  nan   4.   5.   3.]\n"
     ]
    }
   ],
   "source": [
    "cols= feat_info['attribute'].loc[feat_info['type'] == 'mixed']\n",
    "\n",
    "for c in cols:\n",
    "    try:\n",
    "        print('{} : {}'.format(c,enc_set1a[c].unique()))\n",
    "    except KeyError: # We already dropped this column\n",
    "        continue"
   ]
  },
  {
   "cell_type": "code",
   "execution_count": 67,
   "metadata": {},
   "outputs": [],
   "source": [
    "# I tried my best to not create modifiable slices of dataframes which are used to index here\n",
    "# but the warning still came up. I understnad the issus. Maybe a false positive ? Switch it off for now.\n",
    "# See https://stackoverflow.com/questions/20625582/how-to-deal-with-settingwithcopywarning-in-pandas\n",
    "\n",
    "#This cell breaks up the features 'PRAEGENDE_JUGENDJAHRE' and engineers new features based on them\n",
    "\n",
    "pd.options.mode.chained_assignment = None  # default='warn'\n",
    "\n",
    "# Investigate \"PRAEGENDE_JUGENDJAHRE\" and engineer two new variables.\n",
    "move_type = {'mainstream':[1,3,5,8,10,12,14],'avantgarde':[2,4,6,7,9,11,13,15]}\n",
    "dec_type = {'40s':[1,2],'50s':[3,4],'60s':[5,6,7],'70s':[8,9],'80s':[10,11,12,13],'90s':[14,15]}\n",
    "unknown = [-1,0,np.NaN]\n",
    "enc_set1a['PJ_MOVE'] = 0\n",
    "\n",
    "enc_set1a[enc_set1a['PRAEGENDE_JUGENDJAHRE'].isin(move_type['mainstream'])]['PJ_MOVE']=1\n",
    "enc_set1a[enc_set1a['PRAEGENDE_JUGENDJAHRE'].isin(move_type['avantgarde'])]['PJ_MOVE']=0\n",
    "\n",
    "enc_set1a[enc_set1a['PRAEGENDE_JUGENDJAHRE'].isin(dec_type['40s'])]['PJ_DEC']=1\n",
    "enc_set1a[enc_set1a['PRAEGENDE_JUGENDJAHRE'].isin(dec_type['50s'])]['PJ_DEC']=2\n",
    "enc_set1a[enc_set1a['PRAEGENDE_JUGENDJAHRE'].isin(dec_type['60s'])]['PJ_DEC']=3\n",
    "enc_set1a[enc_set1a['PRAEGENDE_JUGENDJAHRE'].isin(dec_type['70s'])]['PJ_DEC']=4\n",
    "enc_set1a[enc_set1a['PRAEGENDE_JUGENDJAHRE'].isin(dec_type['80s'])]['PJ_DEC']=5\n",
    "enc_set1a[enc_set1a['PRAEGENDE_JUGENDJAHRE'].isin(dec_type['90s'])]['PJ_DEC']=6\n",
    "\n",
    "enc_set1a[enc_set1a['PRAEGENDE_JUGENDJAHRE'].isin(unknown)]['PJ_MOVE']= np.NaN\n",
    "enc_set1a[enc_set1a['PRAEGENDE_JUGENDJAHRE'].isin(unknown)]['PJ_DEC']= np.NaN"
   ]
  },
  {
   "cell_type": "code",
   "execution_count": 68,
   "metadata": {},
   "outputs": [],
   "source": [
    "# Investigate \"CAMEO_INTL_2015\" and engineer two new variables.\n",
    "cameo =  enc_set1a['CAMEO_INTL_2015'].astype(float)\n",
    "enc_set1a['WEALTH'] = np.floor(cameo / 10)\n",
    "enc_set1a['LIFE_STAGE'] = cameo - enc_set1a['WEALTH']*10"
   ]
  },
  {
   "cell_type": "code",
   "execution_count": 69,
   "metadata": {},
   "outputs": [
    {
     "data": {
      "text/html": [
       "<div>\n",
       "<style scoped>\n",
       "    .dataframe tbody tr th:only-of-type {\n",
       "        vertical-align: middle;\n",
       "    }\n",
       "\n",
       "    .dataframe tbody tr th {\n",
       "        vertical-align: top;\n",
       "    }\n",
       "\n",
       "    .dataframe thead th {\n",
       "        text-align: right;\n",
       "    }\n",
       "</style>\n",
       "<table border=\"1\" class=\"dataframe\">\n",
       "  <thead>\n",
       "    <tr style=\"text-align: right;\">\n",
       "      <th></th>\n",
       "      <th>WEALTH</th>\n",
       "      <th>LIFE_STAGE</th>\n",
       "      <th>CAMEO_INTL_2015</th>\n",
       "    </tr>\n",
       "  </thead>\n",
       "  <tbody>\n",
       "    <tr>\n",
       "      <th>1</th>\n",
       "      <td>5.0</td>\n",
       "      <td>1.0</td>\n",
       "      <td>51</td>\n",
       "    </tr>\n",
       "    <tr>\n",
       "      <th>2</th>\n",
       "      <td>2.0</td>\n",
       "      <td>4.0</td>\n",
       "      <td>24</td>\n",
       "    </tr>\n",
       "    <tr>\n",
       "      <th>3</th>\n",
       "      <td>1.0</td>\n",
       "      <td>2.0</td>\n",
       "      <td>12</td>\n",
       "    </tr>\n",
       "    <tr>\n",
       "      <th>4</th>\n",
       "      <td>4.0</td>\n",
       "      <td>3.0</td>\n",
       "      <td>43</td>\n",
       "    </tr>\n",
       "    <tr>\n",
       "      <th>5</th>\n",
       "      <td>5.0</td>\n",
       "      <td>4.0</td>\n",
       "      <td>54</td>\n",
       "    </tr>\n",
       "  </tbody>\n",
       "</table>\n",
       "</div>"
      ],
      "text/plain": [
       "   WEALTH  LIFE_STAGE CAMEO_INTL_2015\n",
       "1     5.0         1.0              51\n",
       "2     2.0         4.0              24\n",
       "3     1.0         2.0              12\n",
       "4     4.0         3.0              43\n",
       "5     5.0         4.0              54"
      ]
     },
     "execution_count": 69,
     "metadata": {},
     "output_type": "execute_result"
    }
   ],
   "source": [
    "# Sanity Check\n",
    "enc_set1a[['WEALTH','LIFE_STAGE','CAMEO_INTL_2015']].head()"
   ]
  },
  {
   "cell_type": "markdown",
   "metadata": {},
   "source": [
    "#### Discussion 1.2.2: Engineer Mixed-Type Features\n",
    "\n",
    "We engineered new features out of 'PRAEGENDE_JUGENDJAHRE' and 'CAMEO_INTL_2015' based on the instructions. 'PRAEGENDE_JUGENDJAHRE' and 'CAMEO_INTL_2015' will be dropped later as they became redundant and confusing."
   ]
  },
  {
   "cell_type": "markdown",
   "metadata": {},
   "source": [
    "#### Step 1.2.3: Complete Feature Selection"
   ]
  },
  {
   "cell_type": "code",
   "execution_count": 71,
   "metadata": {},
   "outputs": [],
   "source": [
    "# Do whatever you need to in order to ensure that the dataframe only contains\n",
    "# the columns that should be passed to the algorithm functions.\n",
    "enc_set1a.drop('CAMEO_INTL_2015',axis=1)\n",
    "enc_set1a = enc_set1a.drop('PRAEGENDE_JUGENDJAHRE',axis=1)"
   ]
  },
  {
   "cell_type": "markdown",
   "metadata": {},
   "source": [
    "### Step 1.3: Create a Cleaning Function"
   ]
  },
  {
   "cell_type": "code",
   "execution_count": 72,
   "metadata": {},
   "outputs": [],
   "source": [
    "import ast\n",
    "import re\n",
    "pd.options.mode.chained_assignment = None  # default='warn'\n",
    "\n",
    "def clean_data(df):\n",
    "    \"\"\"\n",
    "    Perform feature trimming, re-encoding, and engineering for demographics\n",
    "    data\n",
    "    \n",
    "    INPUT: Demographics DataFrame\n",
    "    OUTPUT: Trimmed and cleaned demographics DataFrame\n",
    "    \"\"\"\n",
    "    \n",
    "    # convert missing value codes into NaNs, ...\n",
    "    for c in feat_info.iterrows():\n",
    "        #https://stackoverflow.com/questions/1894269/convert-string-representation-of-list-to-list\n",
    "        str = c[1]['missing_or_unknown']\n",
    "\n",
    "        if str == '[]':\n",
    "            continue\n",
    "\n",
    "        # Add quotes to string so they can be interpreted as lists\n",
    "        str = re.sub(r\"([A-Za-z])\",r\"'\\1'\",str)\n",
    "\n",
    "        try:\n",
    "            mlist = ast.literal_eval(str)\n",
    "            df[c[1]['attribute']][df[c[1]['attribute']].isin(mlist)] = np.NaN\n",
    "        except KeyError:\n",
    "            continue\n",
    "                \n",
    "    # remove selected columns and rows, ...\n",
    "    \n",
    "    # Remove columns with over 20% missing values\n",
    "    df = df.drop(['AGER_TYP','GEBURTSJAHR','TITEL_KZ','ALTER_HH','KK_KUNDENTYP','KBA05_BAUMAX'],axis=1)\n",
    "             \n",
    "    # Orignally, this was the code to remove columns with too many missing values. However, the criterion doesn't fit\n",
    "    # to the customer data set, which leads to inconsistency between the general demographic and customer dataset\n",
    "    #     for c in df.columns:\n",
    "    #         l = df[c].value_counts(dropna=False,normalize=True)\n",
    "    #         try:\n",
    "    #             if l[np.NaN] >= 0.2:\n",
    "    #                 #print(' Deleting col {}'.format(c))\n",
    "    #                 df.drop(c,inplace=True,axis=1)\n",
    "    #         except TypeError:\n",
    "    #             continue \n",
    "            \n",
    "    crit = df.isna().sum(axis=1)/df.shape[1] <= 0.3\n",
    "    \n",
    "    #Return deletec rows to create additional cluster after applying KMeans\n",
    "    deleted_rows = df.loc[~crit]\n",
    "    \n",
    "    df = df.loc[crit].copy()\n",
    "    \n",
    "    # select, re-encode, and engineer column values.\n",
    "\n",
    "    # We can drop the 'grob' columns as the 'fein' columns have the same information, this is also based on the Data dictionary\n",
    "    try:\n",
    "        df = df.drop(['CAMEO_DEUG_2015', 'LP_STATUS_GROB','LP_FAMILIE_GROB','LP_LEBENSPHASE_GROB'],axis=1).copy()\n",
    "    except KeyError:\n",
    "        df = df.drop(['CAMEO_DEUG_2015', 'LP_STATUS_GROB'],axis=1).copy()\n",
    "    \n",
    "    # Investigate \"PRAEGENDE_JUGENDJAHRE\" and engineer two new variables.\n",
    "    move_type = {'mainstream':[1,3,5,8,10,12,14],'avantgarde':[2,4,6,7,9,11,13,15]}\n",
    "    dec_type = {'40s':[1,2],'50s':[3,4],'60s':[5,6,7],'70s':[8,9],'80s':[10,11,12,13],'90s':[14,15]}\n",
    "    unknown = [-1,0,np.NaN]\n",
    "    \n",
    "    if 'PRAEGENDE_JUGENDJAHRE' in df.columns:\n",
    "        # Create empty column\n",
    "        df['PJ_MOVE'] = 0\n",
    "        df['PJ_DEC'] = 0\n",
    "\n",
    "        df[df['PRAEGENDE_JUGENDJAHRE'].isin(move_type['mainstream'])]['PJ_MOVE']=1\n",
    "        df[df['PRAEGENDE_JUGENDJAHRE'].isin(move_type['avantgarde'])]['PJ_MOVE']=0\n",
    "\n",
    "        df[df['PRAEGENDE_JUGENDJAHRE'].isin(dec_type['40s'])]['PJ_DEC']=1\n",
    "        df[df['PRAEGENDE_JUGENDJAHRE'].isin(dec_type['50s'])]['PJ_DEC']=2\n",
    "        df[df['PRAEGENDE_JUGENDJAHRE'].isin(dec_type['60s'])]['PJ_DEC']=3\n",
    "        df[df['PRAEGENDE_JUGENDJAHRE'].isin(dec_type['70s'])]['PJ_DEC']=4\n",
    "        df[df['PRAEGENDE_JUGENDJAHRE'].isin(dec_type['80s'])]['PJ_DEC']=5\n",
    "        df[df['PRAEGENDE_JUGENDJAHRE'].isin(dec_type['90s'])]['PJ_DEC']=6\n",
    "\n",
    "        df[df['PRAEGENDE_JUGENDJAHRE'].isin(unknown)]['PJ_MOVE']= np.NaN\n",
    "        df[df['PRAEGENDE_JUGENDJAHRE'].isin(unknown)]['PJ_DEC']= np.NaN\n",
    "\n",
    "        df = df.drop('PRAEGENDE_JUGENDJAHRE',axis=1)\n",
    "        \n",
    "    unknown = ['XX',np.NaN]\n",
    "\n",
    "    cameo =  df['CAMEO_INTL_2015'].astype(float)\n",
    "    df['WEALTH'] = np.floor(cameo / 10)\n",
    "    df['LIFE_STAGE'] = cameo - df['WEALTH']*10\n",
    "    \n",
    "    df[df['CAMEO_INTL_2015'].isin(unknown)]['WEALTH']= np.NaN\n",
    "    df[df['CAMEO_INTL_2015'].isin(unknown)]['LIFE_STAGE']= np.NaN\n",
    "\n",
    "    reenc = ['CJT_GESAMTTYP','FINANZTYP','GFK_URLAUBERTYP','LP_FAMILIE_FEIN','LP_STATUS_FEIN','NATIONALITAET_KZ','SHOPPER_TYP','ZABEOTYP','GEBAEUDETYP','CAMEO_DEU_2015']\n",
    "    \n",
    "    # Initially, these features were hot-encoded, but actually the feature size becomes too large to be handled by KMeans in a reasonable time\n",
    "    #df = pd.get_dummies(df,columns=reenc)\n",
    "    \n",
    "    for c in reenc:\n",
    "        if c in df.columns:\n",
    "            df = df.drop(c,axis=1)\n",
    "        else:\n",
    "            continue\n",
    "\n",
    "    df = df.drop('CAMEO_INTL_2015',axis=1)\n",
    "\n",
    "    df['OST_WEST_KZ'] = df['OST_WEST_KZ'].replace({'W': 1,'O': 0})\n",
    "    \n",
    "    # Return the cleaned dataframe.\n",
    "    \n",
    "    return df, deleted_rows\n",
    "    "
   ]
  },
  {
   "cell_type": "markdown",
   "metadata": {},
   "source": [
    "## Step 2: Feature Transformation\n",
    "\n",
    "### Step 2.1: Apply Feature Scaling"
   ]
  },
  {
   "cell_type": "code",
   "execution_count": 74,
   "metadata": {},
   "outputs": [],
   "source": [
    "#To have a good checkpoint, we reload the data here\n",
    "\n",
    "# Load in the general demographics data.\n",
    "azdias = pd.read_csv('Udacity_AZDIAS_Subset.csv',sep=';')\n",
    "\n",
    "# Load in the feature summary file.\n",
    "feat_info = pd.read_csv('AZDIAS_Feature_Summary.csv', sep=';')"
   ]
  },
  {
   "cell_type": "code",
   "execution_count": 75,
   "metadata": {},
   "outputs": [],
   "source": [
    "cleanaz, cleanaz_del_rows = clean_data(azdias)"
   ]
  },
  {
   "cell_type": "code",
   "execution_count": 77,
   "metadata": {},
   "outputs": [
    {
     "data": {
      "text/plain": [
       "0     0.788927\n",
       "2     0.077980\n",
       "3     0.036916\n",
       "8     0.022078\n",
       "4     0.018105\n",
       "6     0.014900\n",
       "1     0.012069\n",
       "15    0.005658\n",
       "7     0.004144\n",
       "13    0.003481\n",
       "16    0.003255\n",
       "5     0.002408\n",
       "14    0.002407\n",
       "10    0.001910\n",
       "9     0.001786\n",
       "18    0.001663\n",
       "11    0.000889\n",
       "17    0.000563\n",
       "12    0.000559\n",
       "19    0.000202\n",
       "20    0.000081\n",
       "21    0.000020\n",
       "dtype: float64"
      ]
     },
     "execution_count": 77,
     "metadata": {},
     "output_type": "execute_result"
    }
   ],
   "source": [
    "# How many rows have how many missing columns?\n",
    "cleanaz.isna().sum(axis=1).value_counts(normalize=True)"
   ]
  },
  {
   "cell_type": "code",
   "execution_count": 80,
   "metadata": {},
   "outputs": [],
   "source": [
    "from sklearn.preprocessing import Imputer\n",
    "\n",
    "imputer = Imputer(strategy = 'mean')\n",
    "imputed = imputer.fit_transform(cleanaz)\n",
    "impaz = pd.DataFrame(imputed,columns=cleanaz.columns,index=cleanaz.index)"
   ]
  },
  {
   "cell_type": "code",
   "execution_count": 81,
   "metadata": {},
   "outputs": [],
   "source": [
    "# Apply feature scaling to the general population demographics data.\n",
    "from sklearn.preprocessing import StandardScaler\n",
    "scaler = StandardScaler()\n",
    "scaledaz = pd.DataFrame(scaler.fit_transform(impaz),columns=impaz.columns,index=impaz.index)"
   ]
  },
  {
   "cell_type": "markdown",
   "metadata": {},
   "source": [
    "### Discussion 2.1: Apply Feature Scaling\n",
    "\n",
    "The data is cleaned as discussed in the preceding sections. Remaining NaN values are imputed with the mean not to obscure trends in the final analysis. Features are scaled with the typical StandardScaler to remove bias on the weights of the features."
   ]
  },
  {
   "cell_type": "markdown",
   "metadata": {},
   "source": [
    "### Step 2.2: Perform Dimensionality Reduction"
   ]
  },
  {
   "cell_type": "code",
   "execution_count": 85,
   "metadata": {},
   "outputs": [],
   "source": [
    "def scree_plot(pca):\n",
    "    num_components=len(pca.explained_variance_ratio_)\n",
    "    ind = np.arange(num_components)\n",
    "    vals = pca.explained_variance_ratio_\n",
    "    \n",
    "    fig, ax = plt.subplots(1,2,figsize=(20, 6))\n",
    "    \n",
    "    cumvals = np.cumsum(vals)\n",
    "    ax[0].bar(ind, vals)\n",
    "    ax[1].plot(ind, cumvals)\n",
    " \n",
    "    ax[0].set_xlabel(\"Principal Component\")\n",
    "    ax[0].set_ylabel(\"Variance Explained (%)\")\n",
    "    \n",
    "    ax[1].set_xlabel(\"Principal Component\")\n",
    "    ax[1].set_ylabel(\"Cumulative Variance Explained (%)\")\n",
    "    \n",
    "    ax[0].set_title('Explained Variance Per Principal Component')"
   ]
  },
  {
   "cell_type": "code",
   "execution_count": 84,
   "metadata": {},
   "outputs": [],
   "source": [
    "# Apply PCA to the data\n",
    "from sklearn.decomposition import PCA\n",
    "\n",
    "pca = PCA()\n",
    "az_pca = pca.fit_transform(scaledaz)"
   ]
  },
  {
   "cell_type": "code",
   "execution_count": 86,
   "metadata": {},
   "outputs": [
    {
     "data": {
      "image/png": "[encoded data removed]",
      "text/plain": [
       "<matplotlib.figure.Figure at 0x7fdb828bc4e0>"
      ]
     },
     "metadata": {
      "needs_background": "light"
     },
     "output_type": "display_data"
    }
   ],
   "source": [
    "# Investigate the variance accounted for by each principal component.\n",
    "scree_plot(pca)"
   ]
  },
  {
   "cell_type": "code",
   "execution_count": 12,
   "metadata": {},
   "outputs": [],
   "source": [
    "# Re-apply PCA to the data while selecting for number of components to retain.\n",
    "# Apply PCA to the data\n",
    "from sklearn.decomposition import PCA\n",
    "\n",
    "pca = PCA(n_components=30)\n",
    "az_pca = pca.fit_transform(scaledaz)"
   ]
  },
  {
   "cell_type": "markdown",
   "metadata": {},
   "source": [
    "### Discussion 2.2: Perform Dimensionality Reduction\n",
    "\n",
    "The scree plot does not a give good feature to cut off the number of components. Thus, we choose to 20 components to explain 80% of the variance in total, which is a general rule of thumb."
   ]
  },
  {
   "cell_type": "markdown",
   "metadata": {},
   "source": [
    "### Step 2.3: Interpret Principal Components"
   ]
  },
  {
   "cell_type": "code",
   "execution_count": 14,
   "metadata": {
    "scrolled": true
   },
   "outputs": [
    {
     "name": "stdout",
     "output_type": "stream",
     "text": [
      "*** Positive Correlation ***\n",
      "PLZ8_ANTG3 : 0.23368025335929565\n",
      "PLZ8_ANTG4 : 0.22765245336339915\n",
      "PLZ8_BAUMAX : 0.22255544445734302\n",
      "*** Negative Correlation ***\n",
      "MOBI_REGIO : -0.2417679043676197\n",
      "PLZ8_ANTG1 : -0.23234890015820758\n",
      "KBA05_ANTG1 : -0.22367239176628909\n"
     ]
    }
   ],
   "source": [
    "# Map weights for the first principal component to corresponding feature names\n",
    "# and then print the linked values, sorted by weight.\n",
    "# HINT: Try defining a function here or in a new cell that you can reuse in the\n",
    "# other cells.\n",
    "def print_pca_weight(pca, comp, cols,n_feat=3):\n",
    "    idx = np.argsort(-pca.components_[comp])[:n_feat]\n",
    "    \n",
    "    print('*** Positive Correlation ***')\n",
    "    for i in idx:\n",
    "        print('{} : {}'.format(cols[i],pca.components_[comp][i]))\n",
    "        \n",
    "    idx = np.argsort(pca.components_[comp])[:n_feat]\n",
    "    \n",
    "    print('*** Negative Correlation ***')\n",
    "    for i in idx:\n",
    "        print('{} : {}'.format(cols[i],pca.components_[comp][i]))\n",
    "    \n",
    "print_pca_weight(pca,0,cleanaz.columns)"
   ]
  },
  {
   "cell_type": "code",
   "execution_count": null,
   "metadata": {},
   "outputs": [],
   "source": [
    "# *** Positive Correlation ***\n",
    "# PLZ8_ANTG3 : Number of 6-10 family houses in the PLZ8 region\n",
    "# PLZ8_ANTG4 : Number of 10+ family houses in the PLZ8 region\n",
    "# PLZ8_BAUMAX : Most common building type within the PLZ8 region. The higher the more families per home\n",
    "# *** Negative Correlation ***\n",
    "# MOBI_REGIO : MOBI_REGIO Movement patterns. The higher, the lower the movement\n",
    "# PLZ8_ANTG1 : PLZ8_ANTG1. Number of 1-2 family houses in the PLZ8 region\n",
    "# KBA05_ANTG1 : KBA05_ANTG1. Number of 1-2 family houses in the microcell"
   ]
  },
  {
   "cell_type": "code",
   "execution_count": 15,
   "metadata": {},
   "outputs": [
    {
     "name": "stdout",
     "output_type": "stream",
     "text": [
      "*** Positive Correlation ***\n",
      "ALTERSKATEGORIE_GROB : 0.2803246601298474\n",
      "SEMIO_ERL : 0.2604078047366724\n",
      "FINANZ_VORSORGER : 0.24399687123973013\n",
      "*** Negative Correlation ***\n",
      "SEMIO_REL : -0.28606724727173294\n",
      "FINANZ_SPARER : -0.25327522339165265\n",
      "SEMIO_KULT : -0.2532608999341279\n"
     ]
    }
   ],
   "source": [
    "# Map weights for the second principal component to corresponding feature names\n",
    "# and then print the linked values, sorted by weight.\n",
    "print_pca_weight(pca,1,cleanaz.columns)"
   ]
  },
  {
   "cell_type": "code",
   "execution_count": null,
   "metadata": {},
   "outputs": [],
   "source": [
    "# *** Positive Correlation ***\n",
    "# ALTERSKATEGORIE_GROB : Estimated age based on given name analysis. The higher the higher the age\n",
    "# SEMIO_ERL : Personality typology, event-oriented, the higher the less affinity\n",
    "# FINANZ_VORSORGER : Financial typology, \"be prepared\", the higher, the lower the correspondence\n",
    "# *** Negative Correlation ***\n",
    "# SEMIO_REL : Personality typology, 'religious', the higher the less affinity\n",
    "# FINANZ_SPARER : Financial typology, 'money-saver', the higher, the lower the correspondence\n",
    "# SEMIO_KULT : Personality typology, 'cultural-minded', the higher the less affinity"
   ]
  },
  {
   "cell_type": "code",
   "execution_count": 16,
   "metadata": {},
   "outputs": [
    {
     "name": "stdout",
     "output_type": "stream",
     "text": [
      "*** Positive Correlation ***\n",
      "SEMIO_VERT : 0.34374296556722417\n",
      "SEMIO_SOZ : 0.2512100989934262\n",
      "SEMIO_FAM : 0.22792310765030255\n",
      "*** Negative Correlation ***\n",
      "ANREDE_KZ : -0.3634209202705402\n",
      "SEMIO_KAEM : -0.3312005237612689\n",
      "SEMIO_DOM : -0.31097956524327336\n"
     ]
    }
   ],
   "source": [
    "# Map weights for the third principal component to corresponding feature names\n",
    "# and then print the linked values, sorted by weight.\n",
    "print_pca_weight(pca,2,cleanaz.columns)"
   ]
  },
  {
   "cell_type": "code",
   "execution_count": null,
   "metadata": {},
   "outputs": [],
   "source": [
    "# *** Positive Correlation ***\n",
    "# SEMIO_VERT : Personality typology, dreamful,the higher the less affinity\n",
    "# SEMIO_SOZ : socially-minded\n",
    "# SEMIO_FAM :  family-minded\n",
    "# *** Negative Correlation ***\n",
    "# ANREDE_KZ : Gender 1: male 2: female\n",
    "# SEMIO_KAEM : combative attitude\n",
    "# SEMIO_DOM : dominant-minded"
   ]
  },
  {
   "cell_type": "markdown",
   "metadata": {},
   "source": [
    "### Discussion 2.3: Interpret Principal Components\n",
    "\n",
    "- First PCA Component\n",
    "This component is positively correlated with high persons/house while being negatively correlated with low mobility (= pos. with high mobility), high number of buildings and houses with low family count. It seems this is a feature that correlates with neighborhoods with many families per house and high turnover.\n",
    "\n",
    "- Second PCA Component\n",
    "This component correlates postively with age, a financial 'be prepared' mindset and a less eventul mindset. The negative correlation with other financial types is likely because they exclude each other. However, the financial typology categorization seems bad in general, since 'sparer' and 'vorsorger' seems hard to distinguish. This component correlated negatively with the personality types 'religious' and 'culturual'. Since high score here means low affinity, the component has a positive correlation with these traits. The overall correlation seems to match a conversative person.\n",
    "\n",
    "- Third PCA Component\n",
    "The third component seems to be associated with a person that is not 'dreamful', not socially-minded and not family-minded. A negative correlation with ANREDE_KZ means, the person is likely male and the negative correlation with the SEMIO features indicate, that this type is combative, dominant-minded, critical-minded and event-oriented. This seems to be a subsection of a conservative group. "
   ]
  },
  {
   "cell_type": "markdown",
   "metadata": {},
   "source": [
    "## Step 3: Clustering\n",
    "\n",
    "### Step 3.1: Apply Clustering to General Population"
   ]
  },
  {
   "cell_type": "code",
   "execution_count": 92,
   "metadata": {},
   "outputs": [],
   "source": [
    "from sklearn.metrics import silhouette_score\n",
    "from sklearn.cluster import KMeans"
   ]
  },
  {
   "cell_type": "code",
   "execution_count": 93,
   "metadata": {},
   "outputs": [
    {
     "name": "stdout",
     "output_type": "stream",
     "text": [
      "CPU times: user 2min 30s, sys: 10.7 s, total: 2min 41s\n",
      "Wall time: 2min 55s\n"
     ]
    }
   ],
   "source": [
    "%%time\n",
    "km = KMeans(n_clusters=10)\n",
    "km = km.fit(az_pca)"
   ]
  },
  {
   "cell_type": "code",
   "execution_count": 94,
   "metadata": {},
   "outputs": [],
   "source": [
    "#This seems quite long, let's try a random toy dataset\n",
    "toy_az_pca = az_pca[np.random.choice(len(az_pca), round(len(az_pca)*0.1))]"
   ]
  },
  {
   "cell_type": "code",
   "execution_count": 95,
   "metadata": {},
   "outputs": [
    {
     "name": "stdout",
     "output_type": "stream",
     "text": [
      "CPU times: user 13.6 s, sys: 16.9 ms, total: 13.6 s\n",
      "Wall time: 13.8 s\n"
     ]
    }
   ],
   "source": [
    "%%time\n",
    "from sklearn.cluster import KMeans\n",
    "km = KMeans(n_clusters=10)\n",
    "km = km.fit(toy_az_pca)"
   ]
  },
  {
   "cell_type": "code",
   "execution_count": 96,
   "metadata": {},
   "outputs": [
    {
     "name": "stdout",
     "output_type": "stream",
     "text": [
      "Cluster Number: 2\n",
      "Cluster Number: 3\n",
      "Cluster Number: 4\n",
      "Cluster Number: 5\n",
      "Cluster Number: 6\n",
      "Cluster Number: 7\n",
      "Cluster Number: 8\n",
      "Cluster Number: 9\n",
      "Cluster Number: 10\n",
      "Cluster Number: 11\n",
      "Cluster Number: 12\n",
      "Cluster Number: 13\n",
      "Cluster Number: 14\n",
      "Cluster Number: 15\n",
      "Cluster Number: 16\n",
      "Cluster Number: 17\n",
      "Cluster Number: 18\n",
      "Cluster Number: 19\n",
      "Cluster Number: 20\n",
      "Cluster Number: 21\n",
      "Cluster Number: 22\n",
      "Cluster Number: 23\n",
      "Cluster Number: 24\n",
      "Cluster Number: 25\n",
      "Cluster Number: 26\n",
      "Cluster Number: 27\n",
      "Cluster Number: 28\n",
      "Cluster Number: 29\n",
      "Cluster Number: 30\n"
     ]
    }
   ],
   "source": [
    "# Over a number of different cluster counts...\n",
    "from sklearn.cluster import KMeans\n",
    "from time import time \n",
    "    \n",
    "sse = []\n",
    "s_scores = []\n",
    "exe_times = []\n",
    "\n",
    "n_clusters = range(2,31,1)\n",
    "\n",
    "for k in n_clusters:\n",
    "    print('Cluster Number: {}'. format(k))\n",
    "    km = KMeans(n_clusters=k)\n",
    "    start = time()\n",
    "    cluster_labels = km.fit_predict(toy_az_pca)\n",
    "    end = time()\n",
    "    sse.append(np.abs(km.score(toy_az_pca)))\n",
    "    # Reduce Sample Size to avoid Memory Error\n",
    "    s_scores.append(silhouette_score(toy_az_pca, cluster_labels, sample_size=round(0.1*len(toy_az_pca))))\n",
    "    exe_times.append(end-start)"
   ]
  },
  {
   "cell_type": "code",
   "execution_count": 97,
   "metadata": {},
   "outputs": [
    {
     "data": {
      "image/png": "[encoded data removed]",
      "text/plain": [
       "<matplotlib.figure.Figure at 0x7fdb28fda470>"
      ]
     },
     "metadata": {
      "needs_background": "light"
     },
     "output_type": "display_data"
    }
   ],
   "source": [
    "import matplotlib.pyplot as plt\n",
    "from matplotlib.ticker import MultipleLocator\n",
    "                               \n",
    "fig, ax = plt.subplots(2,1,figsize=(13,13))\n",
    "\n",
    "ax[0].plot(n_clusters,sse,'o')\n",
    "\n",
    "axt = ax[0].twinx()\n",
    "axt.plot(n_clusters,exe_times)\n",
    "\n",
    "ax[0].xaxis.set_major_locator(MultipleLocator(1))\n",
    "\n",
    "ax[0].set_ylabel('KMeans Score')\n",
    "axt.set_ylabel('Execution Time (s)')\n",
    "ax[0].set_xlabel('Cluster #')\n",
    "ax[0].grid(True)\n",
    "\n",
    "ax[1].plot(n_clusters,s_scores,'o')\n",
    "ax[1].set_ylabel('KMeans Silhoutte Score')\n",
    "ax[1].set_xlabel('Cluster #')\n",
    "ax[1].xaxis.set_major_locator(MultipleLocator(1))\n",
    "ax[1].grid(True)"
   ]
  },
  {
   "cell_type": "code",
   "execution_count": 102,
   "metadata": {},
   "outputs": [],
   "source": [
    "# Re-fit the k-means model with the selected number of clusters and obtain\n",
    "# cluster predictions for the general population demographics data.\n",
    "from sklearn.cluster import KMeans\n",
    "\n",
    "km = KMeans(n_clusters=8)\n",
    "\n",
    "model = km.fit(az_pca)\n",
    "az_pred = model.predict(az_pca)"
   ]
  },
  {
   "cell_type": "markdown",
   "metadata": {},
   "source": [
    "### Discussion 3.1: Apply Clustering to General Population\n",
    "\n",
    "The computing time for each KMeans fit was too long, which is why we decided to reduce to a randomized set of rows with 10% of the original counts of rows for the fitting.\n",
    "\n",
    "Deciding the optimal number of clusters is a difficulat problem based on the SSE. There is no obvious ellbow 'knee' to choose. There seems to be a slight discontinuity around the 7-10 region though.\n",
    "\n",
    "Using the silhoutte score does not give a definitive answer either, since it indicates using the lowest number of clusters possible. However, the score has a local maximum in the region where the SSE also indicates a discontinuity, so we choose 8.\n",
    "\n",
    "A better scoring methodology or scaling might give a better indicating of the optimal number of clusters to use."
   ]
  },
  {
   "cell_type": "markdown",
   "metadata": {},
   "source": [
    "### Step 3.2: Apply All Steps to the Customer Data"
   ]
  },
  {
   "cell_type": "code",
   "execution_count": 103,
   "metadata": {},
   "outputs": [],
   "source": [
    "# Load in the customer demographics data.\n",
    "customers = pd.read_csv('Udacity_CUSTOMERS_Subset.csv', sep=';') "
   ]
  },
  {
   "cell_type": "code",
   "execution_count": 104,
   "metadata": {},
   "outputs": [],
   "source": [
    "clean_cust, cust_del_rows = clean_data(customers)"
   ]
  },
  {
   "cell_type": "code",
   "execution_count": 105,
   "metadata": {},
   "outputs": [],
   "source": [
    "imp_cust_sca = imputer.transform(clean_cust)\n",
    "temp_df = pd.DataFrame(imp_cust_sca,columns=clean_cust.columns)"
   ]
  },
  {
   "cell_type": "code",
   "execution_count": 115,
   "metadata": {},
   "outputs": [],
   "source": [
    "# Apply preprocessing, feature transformation, and clustering from the general\n",
    "# demographics onto the customer data, obtaining cluster predictions for the\n",
    "# customer demographics data.\n",
    "\n",
    "clean_cust, cust_del_rows = clean_data(customers)\n",
    "imp_cust_sca = imputer.transform(clean_cust)\n",
    "temp_df = pd.DataFrame(imp_cust_sca,columns=clean_cust.columns)\n",
    "cust_sca = scaler.transform(temp_df)\n",
    "cust_sca_pca = pca.transform(cust_sca)\n",
    "cust_pred = km.predict(cust_sca_pca)"
   ]
  },
  {
   "cell_type": "markdown",
   "metadata": {},
   "source": [
    "### Step 3.3: Compare Customer Data to Demographics Data"
   ]
  },
  {
   "cell_type": "code",
   "execution_count": 107,
   "metadata": {},
   "outputs": [],
   "source": [
    "cust_pred_df=np.append(cust_pred,(np.full((len(cust_del_rows)), 8)))\n",
    "df_cust = pd.DataFrame(cust_pred_df,columns=['Cluster'])\n",
    "#Only for Barplot\n",
    "df_cust_bp = pd.DataFrame(df_cust['Cluster'].value_counts(normalize=True))"
   ]
  },
  {
   "cell_type": "code",
   "execution_count": 108,
   "metadata": {},
   "outputs": [],
   "source": [
    "az_pred_df = np.append(az_pred,(np.full((len(cleanaz_del_rows)), 8)))\n",
    "df_az = pd.DataFrame(az_pred_df,columns=['Cluster'])\n",
    "#Only for Barplot\n",
    "df_az_bp = pd.DataFrame(df_az['Cluster'].value_counts(normalize=True))"
   ]
  },
  {
   "cell_type": "code",
   "execution_count": 109,
   "metadata": {},
   "outputs": [
    {
     "data": {
      "text/plain": [
       "Text(0,0.5,'Proportion')"
      ]
     },
     "execution_count": 109,
     "metadata": {},
     "output_type": "execute_result"
    },
    {
     "data": {
      "image/png": "[encoded data removed]",
      "text/plain": [
       "<matplotlib.figure.Figure at 0x7fdb8253d908>"
      ]
     },
     "metadata": {
      "needs_background": "light"
     },
     "output_type": "display_data"
    }
   ],
   "source": [
    "# Compare the proportion of data in each cluster for the customer data to the\n",
    "# proportion of data in each cluster for the general population.\n",
    "import seaborn as sb\n",
    "\n",
    "fig, ax = plt.subplots(1,2,figsize=(15,8))\n",
    "sb.barplot(ax=ax[0],x=df_cust_bp.index,y='Cluster',data=df_cust_bp)\n",
    "sb.barplot(ax=ax[1],x=df_az_bp.index,y='Cluster',data=df_az_bp)\n",
    "\n",
    "ax[0].set_title('Customer')\n",
    "ax[0].set_xlabel('Cluster')\n",
    "ax[0].set_ylabel('Proportion')\n",
    "\n",
    "ax[1].set_title('General Demographic')\n",
    "ax[1].set_xlabel('Cluster')\n",
    "ax[1].set_ylabel('Proportion')"
   ]
  },
  {
   "cell_type": "code",
   "execution_count": 110,
   "metadata": {},
   "outputs": [
    {
     "data": {
      "text/plain": [
       "Cluster    0\n",
       "dtype: int64"
      ]
     },
     "execution_count": 110,
     "metadata": {},
     "output_type": "execute_result"
    }
   ],
   "source": [
    "(df_cust_bp-df_az_bp).idxmax() # Overrepresented in customer set"
   ]
  },
  {
   "cell_type": "code",
   "execution_count": 113,
   "metadata": {},
   "outputs": [
    {
     "data": {
      "text/plain": [
       "Cluster    5\n",
       "dtype: int64"
      ]
     },
     "execution_count": 113,
     "metadata": {},
     "output_type": "execute_result"
    }
   ],
   "source": [
    "(df_cust_bp-df_az_bp).idxmin()# Underrepresented in customer set"
   ]
  },
  {
   "cell_type": "code",
   "execution_count": 112,
   "metadata": {},
   "outputs": [
    {
     "data": {
      "text/html": [
       "<div>\n",
       "<style scoped>\n",
       "    .dataframe tbody tr th:only-of-type {\n",
       "        vertical-align: middle;\n",
       "    }\n",
       "\n",
       "    .dataframe tbody tr th {\n",
       "        vertical-align: top;\n",
       "    }\n",
       "\n",
       "    .dataframe thead th {\n",
       "        text-align: right;\n",
       "    }\n",
       "</style>\n",
       "<table border=\"1\" class=\"dataframe\">\n",
       "  <thead>\n",
       "    <tr style=\"text-align: right;\">\n",
       "      <th></th>\n",
       "      <th>Unscaled</th>\n",
       "      <th>Scaled</th>\n",
       "    </tr>\n",
       "  </thead>\n",
       "  <tbody>\n",
       "    <tr>\n",
       "      <th>ANREDE_KZ</th>\n",
       "      <td>1.001339</td>\n",
       "      <td>-1.041235</td>\n",
       "    </tr>\n",
       "    <tr>\n",
       "      <th>SEMIO_KAEM</th>\n",
       "      <td>2.728976</td>\n",
       "      <td>-0.838103</td>\n",
       "    </tr>\n",
       "    <tr>\n",
       "      <th>FINANZ_HAUSBAUER</th>\n",
       "      <td>2.038223</td>\n",
       "      <td>-0.764377</td>\n",
       "    </tr>\n",
       "    <tr>\n",
       "      <th>HH_EINKOMMEN_SCORE</th>\n",
       "      <td>3.267762</td>\n",
       "      <td>-0.741758</td>\n",
       "    </tr>\n",
       "    <tr>\n",
       "      <th>SEMIO_RAT</th>\n",
       "      <td>2.757704</td>\n",
       "      <td>-0.687265</td>\n",
       "    </tr>\n",
       "    <tr>\n",
       "      <th>PLZ8_ANTG3</th>\n",
       "      <td>0.938970</td>\n",
       "      <td>-0.675142</td>\n",
       "    </tr>\n",
       "    <tr>\n",
       "      <th>FINANZ_SPARER</th>\n",
       "      <td>1.739981</td>\n",
       "      <td>-0.657189</td>\n",
       "    </tr>\n",
       "    <tr>\n",
       "      <th>WEALTH</th>\n",
       "      <td>2.315743</td>\n",
       "      <td>-0.648752</td>\n",
       "    </tr>\n",
       "    <tr>\n",
       "      <th>SEMIO_DOM</th>\n",
       "      <td>3.384632</td>\n",
       "      <td>-0.640537</td>\n",
       "    </tr>\n",
       "    <tr>\n",
       "      <th>FINANZ_ANLEGER</th>\n",
       "      <td>1.903794</td>\n",
       "      <td>-0.636279</td>\n",
       "    </tr>\n",
       "    <tr>\n",
       "      <th>PLZ8_GBZ</th>\n",
       "      <td>3.872939</td>\n",
       "      <td>0.449034</td>\n",
       "    </tr>\n",
       "    <tr>\n",
       "      <th>KONSUMNAEHE</th>\n",
       "      <td>3.783628</td>\n",
       "      <td>0.490470</td>\n",
       "    </tr>\n",
       "    <tr>\n",
       "      <th>FINANZ_VORSORGER</th>\n",
       "      <td>4.205213</td>\n",
       "      <td>0.560882</td>\n",
       "    </tr>\n",
       "    <tr>\n",
       "      <th>ALTERSKATEGORIE_GROB</th>\n",
       "      <td>3.448696</td>\n",
       "      <td>0.642592</td>\n",
       "    </tr>\n",
       "    <tr>\n",
       "      <th>PLZ8_ANTG1</th>\n",
       "      <td>2.886386</td>\n",
       "      <td>0.660941</td>\n",
       "    </tr>\n",
       "    <tr>\n",
       "      <th>KBA05_GBZ</th>\n",
       "      <td>4.045819</td>\n",
       "      <td>0.684688</td>\n",
       "    </tr>\n",
       "    <tr>\n",
       "      <th>KBA05_ANTG1</th>\n",
       "      <td>2.508241</td>\n",
       "      <td>0.741003</td>\n",
       "    </tr>\n",
       "    <tr>\n",
       "      <th>MOBI_REGIO</th>\n",
       "      <td>4.040767</td>\n",
       "      <td>0.773505</td>\n",
       "    </tr>\n",
       "    <tr>\n",
       "      <th>SEMIO_VERT</th>\n",
       "      <td>5.983154</td>\n",
       "      <td>0.876864</td>\n",
       "    </tr>\n",
       "    <tr>\n",
       "      <th>FINANZ_MINIMALIST</th>\n",
       "      <td>4.575007</td>\n",
       "      <td>1.100607</td>\n",
       "    </tr>\n",
       "  </tbody>\n",
       "</table>\n",
       "</div>"
      ],
      "text/plain": [
       "                      Unscaled    Scaled\n",
       "ANREDE_KZ             1.001339 -1.041235\n",
       "SEMIO_KAEM            2.728976 -0.838103\n",
       "FINANZ_HAUSBAUER      2.038223 -0.764377\n",
       "HH_EINKOMMEN_SCORE    3.267762 -0.741758\n",
       "SEMIO_RAT             2.757704 -0.687265\n",
       "PLZ8_ANTG3            0.938970 -0.675142\n",
       "FINANZ_SPARER         1.739981 -0.657189\n",
       "WEALTH                2.315743 -0.648752\n",
       "SEMIO_DOM             3.384632 -0.640537\n",
       "FINANZ_ANLEGER        1.903794 -0.636279\n",
       "PLZ8_GBZ              3.872939  0.449034\n",
       "KONSUMNAEHE           3.783628  0.490470\n",
       "FINANZ_VORSORGER      4.205213  0.560882\n",
       "ALTERSKATEGORIE_GROB  3.448696  0.642592\n",
       "PLZ8_ANTG1            2.886386  0.660941\n",
       "KBA05_GBZ             4.045819  0.684688\n",
       "KBA05_ANTG1           2.508241  0.741003\n",
       "MOBI_REGIO            4.040767  0.773505\n",
       "SEMIO_VERT            5.983154  0.876864\n",
       "FINANZ_MINIMALIST     4.575007  1.100607"
      ]
     },
     "execution_count": 112,
     "metadata": {},
     "output_type": "execute_result"
    }
   ],
   "source": [
    "# What kinds of people are part of a cluster that is overrepresented in the\n",
    "# customer data compared to the general population?\n",
    "\n",
    "dat = pca.inverse_transform(km.cluster_centers_[0])\n",
    "overrep = pd.DataFrame({'Unscaled':scaler.inverse_transform(dat), 'Scaled': dat},index=scaledaz.columns)\n",
    "overrep.sort_values(by='Scaled').iloc[np.r_[0:10, -10:0]]"
   ]
  },
  {
   "cell_type": "code",
   "execution_count": 114,
   "metadata": {
    "scrolled": false
   },
   "outputs": [
    {
     "data": {
      "text/html": [
       "<div>\n",
       "<style scoped>\n",
       "    .dataframe tbody tr th:only-of-type {\n",
       "        vertical-align: middle;\n",
       "    }\n",
       "\n",
       "    .dataframe tbody tr th {\n",
       "        vertical-align: top;\n",
       "    }\n",
       "\n",
       "    .dataframe thead th {\n",
       "        text-align: right;\n",
       "    }\n",
       "</style>\n",
       "<table border=\"1\" class=\"dataframe\">\n",
       "  <thead>\n",
       "    <tr style=\"text-align: right;\">\n",
       "      <th></th>\n",
       "      <th>Unscaled</th>\n",
       "      <th>Scaled</th>\n",
       "    </tr>\n",
       "  </thead>\n",
       "  <tbody>\n",
       "    <tr>\n",
       "      <th>ALTERSKATEGORIE_GROB</th>\n",
       "      <td>1.791156</td>\n",
       "      <td>-0.987807</td>\n",
       "    </tr>\n",
       "    <tr>\n",
       "      <th>SEMIO_VERT</th>\n",
       "      <td>2.502743</td>\n",
       "      <td>-0.912207</td>\n",
       "    </tr>\n",
       "    <tr>\n",
       "      <th>FINANZ_VORSORGER</th>\n",
       "      <td>2.296607</td>\n",
       "      <td>-0.825270</td>\n",
       "    </tr>\n",
       "    <tr>\n",
       "      <th>SEMIO_SOZ</th>\n",
       "      <td>2.685198</td>\n",
       "      <td>-0.749570</td>\n",
       "    </tr>\n",
       "    <tr>\n",
       "      <th>RETOURTYP_BK_S</th>\n",
       "      <td>2.603758</td>\n",
       "      <td>-0.578744</td>\n",
       "    </tr>\n",
       "    <tr>\n",
       "      <th>FINANZ_MINIMALIST</th>\n",
       "      <td>2.261870</td>\n",
       "      <td>-0.578554</td>\n",
       "    </tr>\n",
       "    <tr>\n",
       "      <th>PLZ8_BAUMAX</th>\n",
       "      <td>1.122101</td>\n",
       "      <td>-0.571363</td>\n",
       "    </tr>\n",
       "    <tr>\n",
       "      <th>PLZ8_ANTG3</th>\n",
       "      <td>1.045308</td>\n",
       "      <td>-0.565778</td>\n",
       "    </tr>\n",
       "    <tr>\n",
       "      <th>PLZ8_ANTG4</th>\n",
       "      <td>0.296471</td>\n",
       "      <td>-0.562018</td>\n",
       "    </tr>\n",
       "    <tr>\n",
       "      <th>EWDICHTE</th>\n",
       "      <td>3.032051</td>\n",
       "      <td>-0.527980</td>\n",
       "    </tr>\n",
       "    <tr>\n",
       "      <th>PLZ8_ANTG1</th>\n",
       "      <td>2.801761</td>\n",
       "      <td>0.572588</td>\n",
       "    </tr>\n",
       "    <tr>\n",
       "      <th>SEMIO_REL</th>\n",
       "      <td>5.170738</td>\n",
       "      <td>0.615768</td>\n",
       "    </tr>\n",
       "    <tr>\n",
       "      <th>SEMIO_DOM</th>\n",
       "      <td>5.894988</td>\n",
       "      <td>0.734130</td>\n",
       "    </tr>\n",
       "    <tr>\n",
       "      <th>FINANZ_SPARER</th>\n",
       "      <td>3.908740</td>\n",
       "      <td>0.803170</td>\n",
       "    </tr>\n",
       "    <tr>\n",
       "      <th>SEMIO_PFLICHT</th>\n",
       "      <td>5.823340</td>\n",
       "      <td>0.883922</td>\n",
       "    </tr>\n",
       "    <tr>\n",
       "      <th>FINANZ_UNAUFFAELLIGER</th>\n",
       "      <td>3.929161</td>\n",
       "      <td>0.908345</td>\n",
       "    </tr>\n",
       "    <tr>\n",
       "      <th>ANREDE_KZ</th>\n",
       "      <td>1.979856</td>\n",
       "      <td>0.917607</td>\n",
       "    </tr>\n",
       "    <tr>\n",
       "      <th>FINANZ_ANLEGER</th>\n",
       "      <td>4.294967</td>\n",
       "      <td>0.987341</td>\n",
       "    </tr>\n",
       "    <tr>\n",
       "      <th>SEMIO_TRADV</th>\n",
       "      <td>5.864149</td>\n",
       "      <td>1.211965</td>\n",
       "    </tr>\n",
       "    <tr>\n",
       "      <th>SEMIO_RAT</th>\n",
       "      <td>6.019100</td>\n",
       "      <td>1.285745</td>\n",
       "    </tr>\n",
       "  </tbody>\n",
       "</table>\n",
       "</div>"
      ],
      "text/plain": [
       "                       Unscaled    Scaled\n",
       "ALTERSKATEGORIE_GROB   1.791156 -0.987807\n",
       "SEMIO_VERT             2.502743 -0.912207\n",
       "FINANZ_VORSORGER       2.296607 -0.825270\n",
       "SEMIO_SOZ              2.685198 -0.749570\n",
       "RETOURTYP_BK_S         2.603758 -0.578744\n",
       "FINANZ_MINIMALIST      2.261870 -0.578554\n",
       "PLZ8_BAUMAX            1.122101 -0.571363\n",
       "PLZ8_ANTG3             1.045308 -0.565778\n",
       "PLZ8_ANTG4             0.296471 -0.562018\n",
       "EWDICHTE               3.032051 -0.527980\n",
       "PLZ8_ANTG1             2.801761  0.572588\n",
       "SEMIO_REL              5.170738  0.615768\n",
       "SEMIO_DOM              5.894988  0.734130\n",
       "FINANZ_SPARER          3.908740  0.803170\n",
       "SEMIO_PFLICHT          5.823340  0.883922\n",
       "FINANZ_UNAUFFAELLIGER  3.929161  0.908345\n",
       "ANREDE_KZ              1.979856  0.917607\n",
       "FINANZ_ANLEGER         4.294967  0.987341\n",
       "SEMIO_TRADV            5.864149  1.211965\n",
       "SEMIO_RAT              6.019100  1.285745"
      ]
     },
     "execution_count": 114,
     "metadata": {},
     "output_type": "execute_result"
    }
   ],
   "source": [
    "# What kinds of people are part of a cluster that is underrepresented in the\n",
    "# customer data compared to the general population?\n",
    "\n",
    "dat = pca.inverse_transform(km.cluster_centers_[5])\n",
    "underrep = pd.DataFrame({'Unscaled':scaler.inverse_transform(dat), 'Scaled': dat},index=scaledaz.columns)\n",
    "underrep.sort_values(by='Scaled').iloc[np.r_[0:10, -10:0]]"
   ]
  },
  {
   "cell_type": "markdown",
   "metadata": {},
   "source": [
    "### Discussion 3.3: Compare Customer Data to Demographics Data\n",
    "\n",
    "- Overrepresented cluster\n",
    "Judging based on the overrepresented cluster, the features FINANZ_MINIMALIST, SEMIO_VERT, MOBI_REGIO are associated with a customer more then they are represented in the average population. Relatively, there is a high financial interest (low affinity for low interest), less affinity for a dreamful mindset and low movement. It seems more men than women are customers. KBA05_ANTG1 and PLZ8_ANTG1 have larger weight than others indicating more customers in houses with less families.\n",
    "\n",
    "- Underrepresented cluster\n",
    "The underrepresented cluster has weights on FINANZ_ANLEGER, SEMIO_TRADV and SEMIO_RAT. This indicates a low affinity for investing. A high SEMIO_TRADV and SEMIO_RAT denote a low association with a traditional and rational mindset. This cluster seems to be predominantly women (which is a good sanity check vs. the overrepresented cluster).\n",
    "\n",
    "Conclusion\n",
    "\n",
    "It seems that targeting the overrepresented cluster could benefit the company as the analysis shows distinct features being overrepresented relative to the general population. However, the clustering method should be investigated more thoroughly to have a more reliable metric for choosing a good number clusters. Checking the robustness of the analysis with varying the cluster_counts could help getting more confidence in the analysis."
   ]
  }
 ],
 "metadata": {
  "kernelspec": {
   "display_name": "Python 3",
   "language": "python",
   "name": "python3"
  },
  "language_info": {
   "codemirror_mode": {
    "name": "ipython",
    "version": 3
   },
   "file_extension": ".py",
   "mimetype": "text/x-python",
   "name": "python",
   "nbconvert_exporter": "python",
   "pygments_lexer": "ipython3",
   "version": "3.7.6"
  }
 },
 "nbformat": 4,
 "nbformat_minor": 2
}
